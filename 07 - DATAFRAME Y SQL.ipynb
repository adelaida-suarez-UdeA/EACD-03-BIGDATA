{
  "nbformat": 4,
  "nbformat_minor": 0,
  "metadata": {
    "colab": {
      "name": "07 - DATAFRAME Y SQL.ipynb",
      "provenance": [],
      "toc_visible": true
    },
    "kernelspec": {
      "name": "python3",
      "display_name": "Python 3"
    }
  },
  "cells": [
    {
      "cell_type": "code",
      "metadata": {
        "id": "9b5ESxnoRsp4",
        "outputId": "ab6fcd07-f27c-483a-9ca3-159d60a122c8",
        "colab": {
          "base_uri": "https://localhost:8080/"
        }
      },
      "source": [
        "!wget --no-cache -O init.py -q https://raw.githubusercontent.com/UDEA-Esp-Analitica-y-Ciencia-de-Datos/EACD-03-BIGDATA/master/init.py\n",
        "import init; init.init(force_download=False);\n",
        "from IPython.display import Image"
      ],
      "execution_count": 1,
      "outputs": [
        {
          "output_type": "stream",
          "name": "stdout",
          "text": [
            "replicating local resources\n"
          ]
        }
      ]
    },
    {
      "cell_type": "code",
      "metadata": {
        "id": "xVewc3xtSB-H",
        "outputId": "49650d51-01b5-4b12-e504-462ce04eee3b",
        "colab": {
          "base_uri": "https://localhost:8080/",
          "height": 251
        }
      },
      "source": [
        "Image(\"local/imgs/udea-datascience.png\")"
      ],
      "execution_count": 2,
      "outputs": [
        {
          "output_type": "execute_result",
          "data": {
            "image/png": "[encoded data removed]",
            "text/plain": [
              "<IPython.core.display.Image object>"
            ]
          },
          "metadata": {},
          "execution_count": 2
        }
      ]
    },
    {
      "cell_type": "code",
      "metadata": {
        "id": "nkWYz1DShu-F"
      },
      "source": [
        "#Instalación\n",
        "!apt-get install openjdk-11-jdk-headless -qq > /dev/null\n",
        "!wget -q http://archive.apache.org/dist/spark/spark-3.0.1/spark-3.0.1-bin-hadoop3.2.tgz\n",
        "!tar xf spark-3.0.1-bin-hadoop3.2.tgz\n",
        "!pip install -q findspark\n",
        "\n",
        "#Variables de Entorno\n",
        "import os\n",
        "os.environ[\"JAVA_HOME\"] = \"/usr/lib/jvm/java-11-openjdk-amd64\"\n",
        "os.environ[\"SPARK_HOME\"] = \"/content/spark-3.0.1-bin-hadoop3.2\"\n",
        "\n",
        "#SparkContext\n",
        "import findspark\n",
        "findspark.init()\n",
        "from pyspark.sql import SparkSession\n",
        "from pyspark import SparkContext\n",
        "spark = SparkSession.builder.master(\"local[*]\").getOrCreate()\n",
        "sc = SparkContext.getOrCreate()"
      ],
      "execution_count": 3,
      "outputs": []
    },
    {
      "cell_type": "markdown",
      "metadata": {
        "id": "BVqeUgjrSFB-"
      },
      "source": [
        "#**DATA FRAME**"
      ]
    },
    {
      "cell_type": "markdown",
      "metadata": {
        "id": "hIINYKUriI8e"
      },
      "source": [
        "Se puede definir como una colección de datos distribuidos organizada por columnas y optimizada para para operar en clústers de Spark\n",
        "\n",
        "Es un concepto similar a las tablas en las bases de datos relacionales solo que presentan características similares a los RDDs\n",
        "\n",
        "En los Data Frames se puede acceder a los datos utilizando la librería SQL de Spark a través del SQLContext que se obtiene desde el SparkContext\n"
      ]
    },
    {
      "cell_type": "code",
      "metadata": {
        "id": "z_-KEMCcioM7"
      },
      "source": [
        "from pyspark.sql import SQLContext\n",
        "sqlCtx = SQLContext(sc)"
      ],
      "execution_count": 4,
      "outputs": []
    },
    {
      "cell_type": "markdown",
      "metadata": {
        "id": "mlfhUY14jUSa"
      },
      "source": [
        "**Crear un Data Frame**\n",
        "\n",
        "Existen dos formas de crear un Data Frame\n",
        "\n",
        "1. Desde un RDD: Crear un RDD y usar el método createDataFrame para obtener un Data Frame a partir del RDD"
      ]
    },
    {
      "cell_type": "code",
      "metadata": {
        "id": "kb8xW9flkVCi"
      },
      "source": [
        "datos=[(1,\"Juan\",33,\"Masculino\",\"Ingeniero\",4500000),\\\n",
        "       (2,\"Ana\",38,\"Femenino\",\"Arquitecta\",6200000),\\\n",
        "       (3,\"Carmen\",52,\"Femenino\",\"Abogada\",7500000)]\n",
        "empleadosRDD=sc.parallelize(datos)\n",
        "empleadosRDD.collect()"
      ],
      "execution_count": null,
      "outputs": []
    },
    {
      "cell_type": "code",
      "metadata": {
        "id": "QVOi4hdAlV4H"
      },
      "source": [
        "type(empleadosRDD)\n"
      ],
      "execution_count": null,
      "outputs": []
    },
    {
      "cell_type": "code",
      "metadata": {
        "id": "y6Va4MWkk8vO"
      },
      "source": [
        "empleadosDF=sqlCtx.createDataFrame(empleadosRDD)\n",
        "empleadosDF.collect()"
      ],
      "execution_count": null,
      "outputs": []
    },
    {
      "cell_type": "code",
      "metadata": {
        "id": "DdInz4edlgBY"
      },
      "source": [
        "type(empleadosDF)"
      ],
      "execution_count": null,
      "outputs": []
    },
    {
      "cell_type": "markdown",
      "metadata": {
        "id": "OE2fj7sWlsaK"
      },
      "source": [
        "Los Data Frame tiene algunos métodos que facilitan la operación y visualización de los datos"
      ]
    },
    {
      "cell_type": "code",
      "metadata": {
        "id": "mraoVSg6lzaZ"
      },
      "source": [
        "empleadosDF.show()"
      ],
      "execution_count": null,
      "outputs": []
    },
    {
      "cell_type": "markdown",
      "metadata": {
        "id": "wUO_Q8JbmGAK"
      },
      "source": [
        "Para comprender mejor los datos podemos indicar el nombre de las columnas"
      ]
    },
    {
      "cell_type": "code",
      "metadata": {
        "id": "7FglWofnm_eZ"
      },
      "source": [
        "empleadosDF=sqlCtx.createDataFrame(empleadosRDD,[\"Id\",\"Nombre\",\"Edad\",\"Sexo\",\"Profesión\",\"Salario\"])\n",
        "empleadosDF.collect()"
      ],
      "execution_count": null,
      "outputs": []
    },
    {
      "cell_type": "code",
      "metadata": {
        "id": "bcg7HXAZnRB9"
      },
      "source": [
        "empleadosDF.show()"
      ],
      "execution_count": null,
      "outputs": []
    },
    {
      "cell_type": "markdown",
      "metadata": {
        "id": "uLOse8lh7bnb"
      },
      "source": [
        "Veamos qué tipo de dato se adoptó para cada variable"
      ]
    },
    {
      "cell_type": "code",
      "metadata": {
        "id": "Pi1tA6e27QsN"
      },
      "source": [
        "empleadosDF.printSchema()"
      ],
      "execution_count": null,
      "outputs": []
    },
    {
      "cell_type": "markdown",
      "metadata": {
        "id": "vdVYblDeR1sR"
      },
      "source": [
        "En el siguiente link puede consultar los diferentes tipos de datos disponibles\n",
        "\n",
        "\n",
        "http://spark.apache.org/docs/3.0.0-preview2/sql-ref-datatypes.html\n"
      ]
    },
    {
      "cell_type": "markdown",
      "metadata": {
        "id": "CnAvokXX7z-U"
      },
      "source": [
        "La Edad y el salario los estamos usando con el mismo tipo de dato, pero en realidad podríamos optimizar si modificamos el tipo de dato de la edad"
      ]
    },
    {
      "cell_type": "code",
      "metadata": {
        "id": "NWlw0B_j7mVl"
      },
      "source": [
        "from pyspark.sql.types import *\n",
        "empleadosDF=sqlCtx.createDataFrame(empleadosRDD, \\\n",
        "          StructType([ \\\n",
        "                      StructField(\"Id\", ByteType(),False), \\\n",
        "                      StructField(\"Nombre\", StringType(),False), \\\n",
        "                      StructField(\"Edad\", ByteType(),False), \\\n",
        "                      StructField(\"Sexo\", StringType(),False), \\\n",
        "                      StructField(\"Profesión\", StringType(),False), \\\n",
        "                      StructField(\"Salario\", IntegerType(),False)]))"
      ],
      "execution_count": null,
      "outputs": []
    },
    {
      "cell_type": "code",
      "metadata": {
        "id": "vf0FHe2a-JAs"
      },
      "source": [
        "empleadosDF.printSchema()\n",
        "empleadosDF.show()"
      ],
      "execution_count": null,
      "outputs": []
    },
    {
      "cell_type": "markdown",
      "metadata": {
        "id": "7HkDAZjMUkoL"
      },
      "source": [
        "2. Crear Data Frame desde un archivo externo\n",
        "\n",
        "**Cargar archivo csv**"
      ]
    },
    {
      "cell_type": "code",
      "metadata": {
        "id": "NRU4vYr4dOJe"
      },
      "source": [
        "empleadosDF = sqlCtx.read.csv(\"local/data/empleados.csv\")\n",
        "type(empleadosDF)"
      ],
      "execution_count": null,
      "outputs": []
    },
    {
      "cell_type": "code",
      "metadata": {
        "id": "Sw1jJpZAXoBe"
      },
      "source": [
        "empleadosDF.show(5)"
      ],
      "execution_count": null,
      "outputs": []
    },
    {
      "cell_type": "markdown",
      "metadata": {
        "id": "ybaKS5i_YUDf"
      },
      "source": [
        "Creo el Data Frame correctamente pero no le hemos indicado que la primera línea es el header"
      ]
    },
    {
      "cell_type": "code",
      "metadata": {
        "id": "YotjcPVqYche"
      },
      "source": [
        "empleadosDF = sqlCtx.read.option(\"header\",True) \\\n",
        "     .csv(\"local/data/empleados.csv\")\n",
        "empleadosDF.show(5)"
      ],
      "execution_count": null,
      "outputs": []
    },
    {
      "cell_type": "markdown",
      "metadata": {
        "id": "wriIifL4YuK6"
      },
      "source": [
        "Veamos el formato asumido para cada variable"
      ]
    },
    {
      "cell_type": "code",
      "metadata": {
        "id": "zFo1H8ynYxZX"
      },
      "source": [
        "empleadosDF.printSchema()"
      ],
      "execution_count": null,
      "outputs": []
    },
    {
      "cell_type": "markdown",
      "metadata": {
        "id": "gyjBJNSqY6Rg"
      },
      "source": [
        "Qué tal si asignamos el tipo de datos de cada variable"
      ]
    },
    {
      "cell_type": "code",
      "metadata": {
        "id": "sfggLbPOZAOQ"
      },
      "source": [
        "schema = StructType() \\\n",
        "      .add(\"Id\",ByteType(),True) \\\n",
        "      .add(\"Nombre\",StringType(),True) \\\n",
        "      .add(\"Edad\",ByteType(),True) \\\n",
        "      .add(\"Sexo\",StringType(),True) \\\n",
        "      .add(\"Profesión\",StringType(),True) \\\n",
        "      .add(\"Salario\",IntegerType(),True)\n"
      ],
      "execution_count": null,
      "outputs": []
    },
    {
      "cell_type": "code",
      "metadata": {
        "id": "8BSydWo6ZTcX"
      },
      "source": [
        "empleadosDF = sqlCtx.read.format(\"csv\") \\\n",
        "      .option(\"header\", True) \\\n",
        "      .option(\"delimiter\", \",\") \\\n",
        "      .schema(schema) \\\n",
        "      .load(\"local/data/empleados.csv\")"
      ],
      "execution_count": null,
      "outputs": []
    },
    {
      "cell_type": "code",
      "metadata": {
        "id": "9PXd6UbeaKL3"
      },
      "source": [
        "empleadosDF.printSchema()\n",
        "empleadosDF.show()"
      ],
      "execution_count": null,
      "outputs": []
    },
    {
      "cell_type": "markdown",
      "metadata": {
        "id": "T8vIOZ6_Uwen"
      },
      "source": [
        "**Cargar archivo json**"
      ]
    },
    {
      "cell_type": "code",
      "metadata": {
        "id": "G61hk7eNcnnW"
      },
      "source": [
        "empleadosDF = sqlCtx.read.json(\"local/data/empleados.json\")\n",
        "type(empleadosDF)"
      ],
      "execution_count": null,
      "outputs": []
    },
    {
      "cell_type": "code",
      "metadata": {
        "id": "1uoRDkMhfyAX"
      },
      "source": [
        "empleadosDF.printSchema()\n",
        "empleadosDF.show()"
      ],
      "execution_count": null,
      "outputs": []
    },
    {
      "cell_type": "code",
      "metadata": {
        "id": "tQ1W0c11gUI1"
      },
      "source": [
        "empleadosDF = sqlCtx.read.json(\"local/data/empleados.json\", \\\n",
        "            StructType([ \\\n",
        "                      StructField(\"Id\", IntegerType(),False), \\\n",
        "                      StructField(\"Nombre\", StringType(),False), \\\n",
        "                      StructField(\"Edad\", ByteType(),False), \\\n",
        "                      StructField(\"Sexo\", StringType(),False), \\\n",
        "                      StructField(\"Profesión\", StringType(),False), \\\n",
        "                      StructField(\"Salario\", IntegerType(),False)]))\n",
        "type(empleadosDF)"
      ],
      "execution_count": null,
      "outputs": []
    },
    {
      "cell_type": "code",
      "metadata": {
        "id": "15mid83IgqbU"
      },
      "source": [
        "empleadosDF.printSchema()\n",
        "empleadosDF.show()"
      ],
      "execution_count": null,
      "outputs": []
    },
    {
      "cell_type": "markdown",
      "metadata": {
        "id": "FwsMNDa0szmb"
      },
      "source": [
        "**Acceso a los datos**\n",
        "\n",
        "Una gran ventaja que ofrecen los Data Frames es que podemos acceder a cada variable a través del nombre del data frame, el caracter punto(.) y el nombre de la variable"
      ]
    },
    {
      "cell_type": "code",
      "metadata": {
        "id": "PG0c_ePStC6V"
      },
      "source": [
        "empleadosDF.Salario"
      ],
      "execution_count": null,
      "outputs": []
    },
    {
      "cell_type": "markdown",
      "metadata": {
        "id": "qTzhbt-M2STc"
      },
      "source": [
        "##**Operaciones**"
      ]
    },
    {
      "cell_type": "markdown",
      "metadata": {
        "id": "14yx67gk2WEA"
      },
      "source": [
        "Sobre los Data Frames podemos realizar varios tipos de operaciones.\n",
        "\n",
        "Vamos dos de ellas, a saber, propiedades y métodos"
      ]
    },
    {
      "cell_type": "markdown",
      "metadata": {
        "id": "7NiLCGDN2lF4"
      },
      "source": [
        "###**Propiedades**\n",
        "\n",
        "Las propiedades son atributos que podemos consultar sobre nuestros Data Frames.\n",
        "\n",
        "Veamos algunas de ellas"
      ]
    },
    {
      "cell_type": "markdown",
      "metadata": {
        "id": "3Aza7l_Ey_4t"
      },
      "source": [
        "**columns**\n",
        "\n",
        "Es una propiedad que se utiliza para conocer el nombre de las variables (columnas) del Data Frame"
      ]
    },
    {
      "cell_type": "code",
      "metadata": {
        "id": "Be1A4LgAzMEf"
      },
      "source": [
        "empleadosDF.columns"
      ],
      "execution_count": null,
      "outputs": []
    },
    {
      "cell_type": "markdown",
      "metadata": {
        "id": "faanWpPs2BbY"
      },
      "source": [
        "**dtypes**\n",
        "\n",
        "Atributo que indica el tipo de dato de cada variable (columna) del Data Frame"
      ]
    },
    {
      "cell_type": "code",
      "metadata": {
        "id": "azYvdFGL2LyJ"
      },
      "source": [
        "empleadosDF.dtypes"
      ],
      "execution_count": null,
      "outputs": []
    },
    {
      "cell_type": "markdown",
      "metadata": {
        "id": "iKuiuMAAJ9qi"
      },
      "source": [
        "**rdd**\n",
        "\n",
        "Convierte un Data Frame a un RDD"
      ]
    },
    {
      "cell_type": "code",
      "metadata": {
        "id": "2cCsvo22KEDP"
      },
      "source": [
        "empRDD=empleadosDF.rdd\n",
        "type(empRDD)\n"
      ],
      "execution_count": null,
      "outputs": []
    },
    {
      "cell_type": "markdown",
      "metadata": {
        "id": "4oP-2EUnh2Fq"
      },
      "source": [
        "###**Métodos**"
      ]
    },
    {
      "cell_type": "markdown",
      "metadata": {
        "id": "JM3iZIa_uJHy"
      },
      "source": [
        "Data Frame dispone de una serie de métodos que podemos aplicar sobre nuestros datos. Algunos de estos son similares a los métodos revisados para RDD.\n",
        "\n",
        "Veamos algunos de los principales métodos disponibles en Data Frames"
      ]
    },
    {
      "cell_type": "markdown",
      "metadata": {
        "id": "g_F7LrFQubTi"
      },
      "source": [
        "**agg(funciones_agregacion)**\n",
        "\n",
        "Este método realiza una agregación sobre el data frame, es decir que a partir del data frame original, devuelve un nuevo data frame que contiene el resultado de las funciones de agregación realizadas sobre el conjunto de datos.\n",
        "\n",
        "Estas funciones de agregación son especificadas por el usuario y hacen referencia a operaciones básicas sobre los datos. Estas son algunas de las funciones de agregación disponibles:\n",
        "\n",
        "* first: entrega el primer elemento\n",
        "* last: entrega el último elemento\n",
        "* min: entrega el valor mínimo de una variable específica\n",
        "* max: entrega el valor máximo de una variable específica\n",
        "* sum: entrega la suma de los valores de una variable específica\n",
        "* avg: entrega el promedio de los valores de una variable específica"
      ]
    },
    {
      "cell_type": "markdown",
      "metadata": {
        "id": "5RxcqXlYv_hr"
      },
      "source": [
        "Usemos el método agg para conocer el promedio de los salarios de los empleados\n",
        "\n",
        "---\n",
        "\n"
      ]
    },
    {
      "cell_type": "code",
      "metadata": {
        "id": "_jzgLx4RMO_k"
      },
      "source": [
        "empleadosDF.show()"
      ],
      "execution_count": null,
      "outputs": []
    },
    {
      "cell_type": "code",
      "metadata": {
        "id": "TtWcavRKVLAG"
      },
      "source": [
        "salario=empleadosDF.agg({\"Salario \": \"avg\"}).take(1)\n",
        "type(salario)"
      ],
      "execution_count": null,
      "outputs": []
    },
    {
      "cell_type": "code",
      "metadata": {
        "id": "IDl1NOjjua7r"
      },
      "source": [
        "salario=empleadosDF.agg({\"Salario\": \"avg\"})\n",
        "salario.show()"
      ],
      "execution_count": null,
      "outputs": []
    },
    {
      "cell_type": "code",
      "metadata": {
        "id": "Tr9p54sZuIol"
      },
      "source": [
        "type(salario)"
      ],
      "execution_count": null,
      "outputs": []
    },
    {
      "cell_type": "markdown",
      "metadata": {
        "id": "Xua_pWVowwTr"
      },
      "source": [
        "También podemos utilizar las funciones disponibles en la clase functions de la librería pyspark.sql"
      ]
    },
    {
      "cell_type": "code",
      "metadata": {
        "id": "HDct3eNTxCls"
      },
      "source": [
        "from pyspark.sql import functions\n",
        "edad=empleadosDF.agg( \\\n",
        "    functions.min(empleadosDF.Edad), \\\n",
        "    functions.max(empleadosDF.Edad), \\\n",
        "    functions.avg(empleadosDF.Edad))\n",
        "edad.show()"
      ],
      "execution_count": null,
      "outputs": []
    },
    {
      "cell_type": "code",
      "metadata": {
        "id": "kKM3EWbUNDOu"
      },
      "source": [
        "type(edad)"
      ],
      "execution_count": null,
      "outputs": []
    },
    {
      "cell_type": "markdown",
      "metadata": {
        "id": "iz-emL9Qyihu"
      },
      "source": [
        "En este caso utilizamos tres funciones de agregación, el resultado es un nuevo Data Frame de una sola fila y tres columnas (una por cada función de agregación)"
      ]
    },
    {
      "cell_type": "markdown",
      "metadata": {
        "id": "nikz55zNzLJ6"
      },
      "source": [
        "**corr(var1,var2)**\n",
        "\n",
        "Este método se utiliza para calcular la correlación entre un par de variables del Data Frame"
      ]
    },
    {
      "cell_type": "code",
      "metadata": {
        "id": "S1I6KZeGzqox"
      },
      "source": [
        "empleadosDF.corr(\"Edad\", \"Salario\")"
      ],
      "execution_count": null,
      "outputs": []
    },
    {
      "cell_type": "markdown",
      "metadata": {
        "id": "7kFop7Ss02ur"
      },
      "source": [
        "**count()**\n",
        "\n",
        "Se utiliza para conocer el número de registros (filas) en el Data Frame"
      ]
    },
    {
      "cell_type": "code",
      "metadata": {
        "id": "eat8zmt_0_Qo"
      },
      "source": [
        "empleadosDF.count()"
      ],
      "execution_count": null,
      "outputs": []
    },
    {
      "cell_type": "markdown",
      "metadata": {
        "id": "2Mh_1p_81Zqp"
      },
      "source": [
        "**distinct()**\n",
        "\n",
        "Crea un nuevo Data Frame a partir de los registros (filas) que sean diferentes en el Data Frame inicial"
      ]
    },
    {
      "cell_type": "code",
      "metadata": {
        "id": "Bh6Z541z1qpI"
      },
      "source": [
        "emp=empleadosDF.distinct()\n",
        "emp.show()"
      ],
      "execution_count": null,
      "outputs": []
    },
    {
      "cell_type": "markdown",
      "metadata": {
        "id": "ivRGC3i03UHp"
      },
      "source": [
        "**drop(var)**\n",
        "\n",
        "Toma el Data Frame inicial, elimina la variable (columna) especificada y entrega un nuevo Data Frame con el resultado"
      ]
    },
    {
      "cell_type": "code",
      "metadata": {
        "id": "W4PXJtHx3nTY"
      },
      "source": [
        "emp=empleadosDF.drop(\"Id\")\n",
        "emp.show()"
      ],
      "execution_count": null,
      "outputs": []
    },
    {
      "cell_type": "markdown",
      "metadata": {
        "id": "PJkG6Q4K4G_2"
      },
      "source": [
        "**union(other)**\n",
        "\n",
        "Este método crea un nuevo Data Frame a partir de la unión de dos Data Frames"
      ]
    },
    {
      "cell_type": "code",
      "metadata": {
        "id": "aE8LNTfy57iJ"
      },
      "source": [
        "nuevos=sqlCtx.createDataFrame([ \\\n",
        "      (4,\"Ana\",40,\"Femenino\",\"Docente\",7600000), \\\n",
        "      (5,\"Luis\",62,\"Masculino\",\"Panadero\",None)])\n",
        "nuevos.show()"
      ],
      "execution_count": null,
      "outputs": []
    },
    {
      "cell_type": "code",
      "metadata": {
        "id": "_s-JvVF44HdI"
      },
      "source": [
        "emp=empleadosDF.union(nuevos)\n",
        "emp.show()"
      ],
      "execution_count": null,
      "outputs": []
    },
    {
      "cell_type": "markdown",
      "metadata": {
        "id": "UHI72SS07IoB"
      },
      "source": [
        "**dropDuplicates(var)**\n",
        "\n",
        "Este método devuelve un nuevo Data Frame en el que ha eliminado los registros (filas) duplicadas. Esto ya los hacía el método distinct(), la diferencia es que en dropDuplicates() se puede especificar las columnas a evaluar para considerar que dos registros son duplicados"
      ]
    },
    {
      "cell_type": "code",
      "metadata": {
        "id": "Fd_8g2ZU7vzt"
      },
      "source": [
        "empd=emp.dropDuplicates()\n",
        "empd.show()"
      ],
      "execution_count": null,
      "outputs": []
    },
    {
      "cell_type": "markdown",
      "metadata": {
        "id": "TKLxU8-0_Ul0"
      },
      "source": [
        "**fillna(valor,col[ ])**\n",
        "\n",
        "Este método devuelve un nuevo Data Frame luego de sustituir los valores nulos detectados por el valor especificado.\n",
        "\n",
        "Adicionalmente, es posible indicarlo cuales son las columnas sobre las que va a operar"
      ]
    },
    {
      "cell_type": "code",
      "metadata": {
        "id": "SenCa9GU_ypO"
      },
      "source": [
        "empfna=empd.fillna(1000000)\n",
        "empfna.show()"
      ],
      "execution_count": null,
      "outputs": []
    },
    {
      "cell_type": "markdown",
      "metadata": {
        "id": "1e_CYXyeAdvX"
      },
      "source": [
        "**dropna(_cuantas, _umbral, _columnas)**\n",
        "\n",
        "Este método devuelve un nuevo Dat Frame resultado de eliminar los registros (filas) que contienen nulos en el Data Frame inicial.\n",
        "\n"
      ]
    },
    {
      "cell_type": "code",
      "metadata": {
        "id": "-_PVJIkFAyll"
      },
      "source": [
        "empd.show()"
      ],
      "execution_count": null,
      "outputs": []
    },
    {
      "cell_type": "code",
      "metadata": {
        "id": "5lov_pBYA5dO"
      },
      "source": [
        "empdna=empd.dropna(\"any\")\n",
        "empdna.show()"
      ],
      "execution_count": null,
      "outputs": []
    },
    {
      "cell_type": "markdown",
      "metadata": {
        "id": "HV2_amAeCA6g"
      },
      "source": [
        "**filter(condicion)**\n",
        "\n",
        "Funciona similar al filter de RDD. Devuelve un nuevo Data Frame que contiene los registros para los cuales la condición arroja como resultado True"
      ]
    },
    {
      "cell_type": "code",
      "metadata": {
        "id": "FECz5ikFCMIZ"
      },
      "source": [
        "empf=empleadosDF.filter(empleadosDF.Salario>5000000)\n",
        "empleadosDF.show()\n",
        "empf.show()"
      ],
      "execution_count": null,
      "outputs": []
    },
    {
      "cell_type": "markdown",
      "metadata": {
        "id": "fP1at8fIES2H"
      },
      "source": [
        "**GroupBy(var)**\n",
        "\n",
        "Genera un nuevo Data Frame donde agrupa los registros que coincidan en la variable especificada.\n",
        "\n",
        "Luego de agrupar es posible realizar agregaciones para indicar que se desea realizar con los valores de los registros agrupados\n"
      ]
    },
    {
      "cell_type": "code",
      "metadata": {
        "id": "SfFC-Wr-EVDu"
      },
      "source": [
        "empavg=emp.groupBy(\"Nombre\").avg()\n",
        "empsal=emp.groupBy(\"Nombre\").agg({\"Salario\":\"avg\"})\n",
        "print(\"Data Frame Inicial\")\n",
        "emp.show()\n",
        "print(\"Data Frame promediando todas las variables\")\n",
        "empavg.show()\n",
        "print(\"Data Frame promediando una variable específica\")\n",
        "empsal.show()"
      ],
      "execution_count": null,
      "outputs": []
    },
    {
      "cell_type": "markdown",
      "metadata": {
        "id": "9UOeCCN_I3y2"
      },
      "source": [
        "**orderBy(var)**\n",
        "\n",
        "Entrega un Data Frame ordenado de acuerdo a la variable indicada"
      ]
    },
    {
      "cell_type": "code",
      "metadata": {
        "id": "nqZxGoYhI6ll"
      },
      "source": [
        "empo=emp.orderBy(emp.Salario.desc())\n",
        "print(\"Data Frame Inicial\")\n",
        "emp.show()\n",
        "print(\"Data Frame ordebado por salario\")\n",
        "empo.show()"
      ],
      "execution_count": null,
      "outputs": []
    },
    {
      "cell_type": "markdown",
      "metadata": {
        "id": "VbmHI5hzLFAm"
      },
      "source": [
        "**select(lista_var)**\n",
        "\n",
        "Genera un nuevo Data Frame que incluye únicamente las variables indicadas del Data Frame original"
      ]
    },
    {
      "cell_type": "code",
      "metadata": {
        "id": "XxmOtgSYLQET"
      },
      "source": [
        "empleadosDF=empleadosDF.select(\"Nombre\",\"Sexo\",\"Salario\")\n",
        "print(\"Data Frame Inicial\")\n",
        "empleadosDF.show()\n",
        "print(\"Data Frame nuevo\")\n",
        "emps.show()\n",
        "empleadosDF."
      ],
      "execution_count": null,
      "outputs": []
    },
    {
      "cell_type": "markdown",
      "metadata": {
        "id": "aZDEtgcFLPpt"
      },
      "source": [
        "**selectExpr(expresiones)**\n",
        "\n",
        "Funciona similar al método select(), pero permite crear nuevas variables (columnas) a partir de la evaluación de las expresiones indicadas"
      ]
    },
    {
      "cell_type": "code",
      "metadata": {
        "id": "x3FgS9fRMA8X"
      },
      "source": [
        "emps=empleadosDF.selectExpr(\"Nombre\",\"Sexo\",\"Salario\", \"Edad > 50\")\n",
        "print(\"Data Frame Inicial\")\n",
        "empleadosDF.show()\n",
        "print(\"Data Frame nuevo\")\n",
        "emps.show()"
      ],
      "execution_count": null,
      "outputs": []
    },
    {
      "cell_type": "markdown",
      "metadata": {
        "id": "c3_d7U68M9M3"
      },
      "source": [
        "**withcolumn(nombre,expresion)**\n",
        "\n",
        "Al igual que selectExpr() permite adicionar columnas con el resultado de la evaluación de una expresión. La diferencia consiste en poder asignar el nombre de las columnas adicionadas"
      ]
    },
    {
      "cell_type": "code",
      "metadata": {
        "id": "OFsNYeL_NPyd"
      },
      "source": [
        "emps=empleadosDF.withColumn(\"Mayor de 50\", empleadosDF.Edad > 50)\n",
        "print(\"Data Frame Inicial\")\n",
        "empleadosDF.show()\n",
        "print(\"Data Frame nuevo\")\n",
        "emps.show()"
      ],
      "execution_count": null,
      "outputs": []
    },
    {
      "cell_type": "markdown",
      "metadata": {
        "id": "FpFvpnD1h8lR"
      },
      "source": [
        "##**Consultas SQL**"
      ]
    },
    {
      "cell_type": "markdown",
      "metadata": {
        "id": "SeqI_rGsHifJ"
      },
      "source": [
        "Los métodos descritos anteriormente permiten operar los datos para crear registros, leerlos, actualizarlos e incluso eliminarlos, las operaciones básicas de un CRUD.\n",
        "\n",
        "Seguramente usted está acostumbrado a realizar estas operaciones utilizando lenguaje SQL, pues bien, la clase SqlContext de Spark cuenta con un método llamado sql que permite utilizar el lenguaje SQL para operar un Data Frame\n",
        "\n",
        "Para poder hacer esto, debe registrar en el motor de SQL una tabla que servirá para referenciar el Data Frame y realizar las operaciones sobre dicha tabla"
      ]
    },
    {
      "cell_type": "code",
      "metadata": {
        "id": "bwPeNt3vQI7e"
      },
      "source": [
        "empleadosDF.registerTempTable(\"Empleados\")"
      ],
      "execution_count": null,
      "outputs": []
    },
    {
      "cell_type": "markdown",
      "metadata": {
        "id": "Vl5SecKpIsi_"
      },
      "source": [
        "De esta manera cada que requiere utilizar una consulta SQL lo realizará sobre la tabla Empleados\n",
        "\n",
        "**Lectura de datos**"
      ]
    },
    {
      "cell_type": "code",
      "metadata": {
        "id": "6kynpGrkI3Am"
      },
      "source": [
        "q1 = sqlCtx.sql(\"SELECT * FROM Empleados\")\n",
        "q1.show()"
      ],
      "execution_count": null,
      "outputs": []
    },
    {
      "cell_type": "markdown",
      "metadata": {
        "id": "4E50AvCAQZ88"
      },
      "source": [
        "**Filtremos los registros que la edad sea mayor que 50**"
      ]
    },
    {
      "cell_type": "code",
      "metadata": {
        "id": "XvgsfiUOQuSv"
      },
      "source": [
        "q2 = sqlCtx.sql('SELECT * FROM Empleados WHERE Sexo >Masculino')\n",
        "q2.show()"
      ],
      "execution_count": null,
      "outputs": []
    },
    {
      "cell_type": "markdown",
      "metadata": {
        "id": "k0X3x4XSQeWQ"
      },
      "source": [
        "**Leamos solo las variables de interés**"
      ]
    },
    {
      "cell_type": "code",
      "metadata": {
        "id": "zgvKL_tvQZYJ"
      },
      "source": [
        "q3 = sqlCtx.sql(\"\"\"\n",
        "\t\tSELECT Nombre, Edad, Sexo\n",
        "\t\tFROM Empleados\n",
        "\t\"\"\")\n",
        "q3.show()"
      ],
      "execution_count": null,
      "outputs": []
    },
    {
      "cell_type": "markdown",
      "metadata": {
        "id": "CcM47Qz-RdHu"
      },
      "source": [
        "**Funciones definidas por el usuario**\n",
        "\n",
        "A demás de las consultas básicas que proporciona SQL, el usuario puede definir sus propias funciones e incorporarlas dentro de una consulta SQL. Esto es de gran ayuda para personalizar las acciones que deseamos realizar sobre los datos\n",
        "\n",
        "Primero debemos definir la función a utilizar"
      ]
    },
    {
      "cell_type": "code",
      "metadata": {
        "id": "cww5-ytaRggc"
      },
      "source": [
        "def funcionEdad(edad):\n",
        "\tif edad < 50:\n",
        "\t\treturn \"Menor de 50\"\n",
        "\telse:\n",
        "\t\treturn \"Mayor de 50\"\n"
      ],
      "execution_count": null,
      "outputs": []
    },
    {
      "cell_type": "markdown",
      "metadata": {
        "id": "fveSTYy6R71d"
      },
      "source": [
        "Ahora debemos registrar la función con la ayuda del SqlContext"
      ]
    },
    {
      "cell_type": "code",
      "metadata": {
        "id": "1ii7JsXTRliD"
      },
      "source": [
        "sqlCtx.registerFunction(\"funcionEdad\",funcionEdad)\n"
      ],
      "execution_count": null,
      "outputs": []
    },
    {
      "cell_type": "markdown",
      "metadata": {
        "id": "4i145J-USKyA"
      },
      "source": [
        "Ahora si podemos empezar a usar nuestra función"
      ]
    },
    {
      "cell_type": "code",
      "metadata": {
        "id": "umeMyQseSQJn"
      },
      "source": [
        "q4 = sqlCtx.sql(\"\"\"\n",
        "\t\tSELECT Nombre, Sexo, Salario, funcionEdad(Edad) AS Edad_Mayor_50\n",
        "\t\tFROM Empleados\n",
        "\t\t\"\"\")\n",
        "q4.show()"
      ],
      "execution_count": null,
      "outputs": []
    },
    {
      "cell_type": "markdown",
      "metadata": {
        "id": "eVBRd0PziATu"
      },
      "source": [
        "#**Ejemplos**"
      ]
    },
    {
      "cell_type": "markdown",
      "metadata": {
        "id": "XW3ESQzgWTA1"
      },
      "source": [
        "##**Titanic**"
      ]
    },
    {
      "cell_type": "markdown",
      "metadata": {
        "id": "jK1DP_VjWZ7z"
      },
      "source": [
        "El archivo titanic.csv recoge la información de los 2201 pasajeros del titanic. Para cada pasajero se dispone de la siguiente información.\n",
        "\n",
        "* Clase: Tripulación, Primera, Segunda, Tercera\n",
        "* Edad: Adulto, Niño\n",
        "* Sexo: Hombre, Mujer\n",
        "* Sobrevivió: Si, No\n",
        "\n",
        "Creemos un Data Frame a partir de este archivo y realicemos algunas operaciones"
      ]
    },
    {
      "cell_type": "code",
      "metadata": {
        "id": "ZyejrGaDj9ic",
        "outputId": "c4a94e58-ecb0-4585-ca1a-7e2a914c3fe8",
        "colab": {
          "base_uri": "https://localhost:8080/"
        }
      },
      "source": [
        "titanic = sqlCtx.read.option(\"header\",True) \\\n",
        "      .option(\"delimiter\",\";\") \\\n",
        "     .csv(\"local/data/titanic.csv\")\n",
        "titanic.show(5)"
      ],
      "execution_count": 5,
      "outputs": [
        {
          "output_type": "stream",
          "name": "stdout",
          "text": [
            "+-------+------+------+----------+\n",
            "|  Clase|  Edad|  Sexo|Sobrevivio|\n",
            "+-------+------+------+----------+\n",
            "|Primera|Adulto|Hombre|        Si|\n",
            "|Primera|Adulto|Hombre|        Si|\n",
            "|Primera|Adulto|Hombre|        Si|\n",
            "|Primera|Adulto|Hombre|        Si|\n",
            "|Primera|Adulto|Hombre|        Si|\n",
            "+-------+------+------+----------+\n",
            "only showing top 5 rows\n",
            "\n"
          ]
        }
      ]
    },
    {
      "cell_type": "markdown",
      "metadata": {
        "id": "unhn8d-KWrNF"
      },
      "source": [
        "**Cuántos pasajeros sobrevivieron por clase?**"
      ]
    },
    {
      "cell_type": "code",
      "metadata": {
        "id": "gxV1lXipWvor"
      },
      "source": [
        "sob=titanic.filter(titanic.Sobrevivio==\"Si\")\n",
        "sob.distinct().show()"
      ],
      "execution_count": null,
      "outputs": []
    },
    {
      "cell_type": "code",
      "metadata": {
        "id": "UeFMnJ7pmeES"
      },
      "source": [
        "sob1=sob.filter(sob.Clase==\"Primera\")\n",
        "sob1.count()"
      ],
      "execution_count": null,
      "outputs": []
    },
    {
      "cell_type": "code",
      "metadata": {
        "id": "vXUEVBfrm290"
      },
      "source": [
        "cs1=titanic.filter(titanic.Sobrevivio==\"Si\").filter(titanic.Clase==\"Primera\").count()\n",
        "cs2=titanic.filter(titanic.Sobrevivio==\"Si\").filter(titanic.Clase==\"Segunda\").count()\n",
        "cs3=titanic.filter(titanic.Sobrevivio==\"Si\").filter(titanic.Clase==\"Tercera\").count()\n",
        "cst=titanic.filter(titanic.Sobrevivio==\"Si\").filter(titanic.Clase==\"Tripulacion\").count()\n",
        "\n",
        "print(\"Los sobrevivientes de primera clase son : \",cs1)\n",
        "print(\"Los sobrevivientes de segunda clase son : \",cs2)\n",
        "print(\"Los sobrevivientes de tercera clase son : \",cs3)\n",
        "print(\"Los sobrevivientes de la tripulación son : \",cst)\n",
        "\n"
      ],
      "execution_count": null,
      "outputs": []
    },
    {
      "cell_type": "markdown",
      "metadata": {
        "id": "KXY83iBNpIML"
      },
      "source": [
        "Y cómo contamos los que no sobrevivieron?"
      ]
    },
    {
      "cell_type": "code",
      "metadata": {
        "id": "fSQ75fxepKw4"
      },
      "source": [
        "ns1=titanic.filter(titanic.Sobrevivio==\"No\").filter(titanic.Clase==\"Primera\").count()\n",
        "ns2=titanic.filter(titanic.Sobrevivio==\"No\").filter(titanic.Clase==\"Segunda\").count()\n",
        "ns3=titanic.filter(titanic.Sobrevivio==\"No\").filter(titanic.Clase==\"Tercera\").count()\n",
        "nst=titanic.filter(titanic.Sobrevivio==\"No\").filter(titanic.Clase==\"Tripulacion\").count()\n",
        "\n",
        "print(\"Los que NO sobrevivieron de primera clase son : \",ns1)\n",
        "print(\"Los que NO sobrevivieron de segunda clase son : \",ns2)\n",
        "print(\"Los que NO sobrevivieron de tercera clase son : \",ns3)\n",
        "print(\"Los que NO sobrevivieron de la tripulación son : \",nst)"
      ],
      "execution_count": null,
      "outputs": []
    },
    {
      "cell_type": "markdown",
      "metadata": {
        "id": "AR4G-ZHapsNQ"
      },
      "source": [
        "Calculemos el promedio"
      ]
    },
    {
      "cell_type": "code",
      "metadata": {
        "id": "evUClZ15pubA"
      },
      "source": [
        "print(\"Promedio de sobrevivientes por clase\")\n",
        "print(\"Primera clase : \",round((cs1*100)/(cs1+ns1),1))\n",
        "print(\"Segunda clase : \",round((cs2*100)/(cs2+ns2),1))\n",
        "print(\"Tercera clase : \",round((cs3*100)/(cs3+ns3),1))\n",
        "print(\"Tripulación :   \",round((cst*100)/(cst+nst),1))"
      ],
      "execution_count": null,
      "outputs": []
    },
    {
      "cell_type": "markdown",
      "metadata": {
        "id": "EcWOH8wurefJ"
      },
      "source": [
        "Veamos otra forma de resolverlo"
      ]
    },
    {
      "cell_type": "code",
      "metadata": {
        "id": "Q527fkWZriLx"
      },
      "source": [
        "titanic.registerTempTable(\"Titanic\")\n",
        "q = sqlCtx.sql(\"SELECT * FROM Titanic\")\n",
        "q.show(5)"
      ],
      "execution_count": null,
      "outputs": []
    },
    {
      "cell_type": "code",
      "metadata": {
        "id": "rePriSersAXY"
      },
      "source": [
        "titanic.registerTempTable(\"Titanic\")\n",
        "q = sqlCtx.sql(\"SELECT Clase, Sobrevivio FROM Titanic\")\n",
        "q.distinct().show()"
      ],
      "execution_count": null,
      "outputs": []
    },
    {
      "cell_type": "code",
      "metadata": {
        "id": "cyKZhLDsvNOY"
      },
      "source": [
        "def SobrevivioInt(sobrevivio):\n",
        "\t\treturn int (sobrevivio==\"Si\")"
      ],
      "execution_count": null,
      "outputs": []
    },
    {
      "cell_type": "code",
      "metadata": {
        "id": "Td9mX2TIveIn"
      },
      "source": [
        "sqlCtx.registerFunction(\"SobrevivioInt\",SobrevivioInt)"
      ],
      "execution_count": null,
      "outputs": []
    },
    {
      "cell_type": "code",
      "metadata": {
        "id": "NhBunh9Tvh7n"
      },
      "source": [
        "sob = sqlCtx.sql(\"\"\"\n",
        "\t\tSELECT Clase, SobrevivioInt(Sobrevivio) AS Sobrevivio\n",
        "\t\tFROM Titanic\n",
        "\t\t\"\"\")\n",
        "sob.distinct().show()"
      ],
      "execution_count": null,
      "outputs": []
    },
    {
      "cell_type": "code",
      "metadata": {
        "id": "b-7rJvKt0wlL"
      },
      "source": [
        "sob.printSchema()"
      ],
      "execution_count": null,
      "outputs": []
    },
    {
      "cell_type": "code",
      "metadata": {
        "id": "rogjgNjQ00Nf"
      },
      "source": [
        "from pyspark.sql import functions\n",
        "from pyspark.sql.types import *\n",
        "sobInt=sob.withColumn(\"Sobrevivio\",sob.Sobrevivio.cast(ByteType()))\n",
        "sobInt.printSchema()\n"
      ],
      "execution_count": null,
      "outputs": []
    },
    {
      "cell_type": "code",
      "metadata": {
        "id": "aCXSMjXftn7g"
      },
      "source": [
        "sobClase=sobInt.groupBy('Clase').sum().show()"
      ],
      "execution_count": null,
      "outputs": []
    },
    {
      "cell_type": "code",
      "metadata": {
        "id": "Vg8n4yYC3h5_"
      },
      "source": [
        "totalClase=sobInt.groupBy('Clase').count().show()"
      ],
      "execution_count": null,
      "outputs": []
    },
    {
      "cell_type": "code",
      "metadata": {
        "id": "3mg2ewxv5Zjd"
      },
      "source": [
        "promSobClase=sobInt.groupBy('Clase').avg().show()"
      ],
      "execution_count": null,
      "outputs": []
    },
    {
      "cell_type": "markdown",
      "metadata": {
        "id": "6jpDES5RWwAb"
      },
      "source": [
        "**Qué pasó con los adultos de tercera clase?**"
      ]
    },
    {
      "cell_type": "code",
      "metadata": {
        "id": "4tXeoBL66YoN"
      },
      "source": [
        "at=titanic.filter((titanic.Edad==\"Adulto\") & (titanic.Clase==\"Tercera\")).select(\"Sexo\",\"Sobrevivio\")\n",
        "at.distinct().show()"
      ],
      "execution_count": null,
      "outputs": []
    },
    {
      "cell_type": "code",
      "metadata": {
        "id": "4AkETKK78xRo"
      },
      "source": [
        "hsi=at.filter((titanic.Sexo==\"Hombre\") & (titanic.Sobrevivio==\"Si\")).count()\n",
        "msi=at.filter((titanic.Sexo==\"Mujer\") & (titanic.Sobrevivio==\"Si\")).count()\n",
        "th=at.filter(titanic.Sexo==\"Hombre\").count()\n",
        "tm=at.filter(titanic.Sexo==\"Mujer\").count()\n",
        "\n",
        "print(\"Los Adultos Hombres de terera clase eran : %d y sobrevivieron: %d\" %(th,hsi))\n",
        "print(\"Los Adultos Mujeres de terera clase eran : %d y sobrevivieron: %d\" %(tm,msi))"
      ],
      "execution_count": null,
      "outputs": []
    },
    {
      "cell_type": "markdown",
      "metadata": {
        "id": "FkGf6MbYBLAx"
      },
      "source": [
        "Veamos otra forma de resolverlo"
      ]
    },
    {
      "cell_type": "code",
      "metadata": {
        "id": "KcEFQNmtCMmo"
      },
      "source": [
        "sob = sqlCtx.sql(\"\"\"\n",
        "\t\tSELECT Sexo, SobrevivioInt(Sobrevivio) AS Sobrevivio\n",
        "\t\tFROM Titanic\n",
        "    WHERE Clase = 'Tercera' AND Edad = 'Adulto'\n",
        "\t\t\"\"\")\n",
        "sob.distinct().show()"
      ],
      "execution_count": null,
      "outputs": []
    },
    {
      "cell_type": "code",
      "metadata": {
        "id": "PTWZJn81DbDo"
      },
      "source": [
        "sob.printSchema()"
      ],
      "execution_count": null,
      "outputs": []
    },
    {
      "cell_type": "code",
      "metadata": {
        "id": "V_vqfPj5De2L"
      },
      "source": [
        "from pyspark.sql import functions\n",
        "sobInt=sob.withColumn(\"Sobrevivio\",sob.Sobrevivio.cast(ByteType()))\n",
        "sobInt.printSchema()\n",
        "sobInt.distinct().show()"
      ],
      "execution_count": null,
      "outputs": []
    },
    {
      "cell_type": "code",
      "metadata": {
        "id": "kdKBL3wfDySG"
      },
      "source": [
        "ats=sobInt.groupBy(\"Sexo\").sum().show()"
      ],
      "execution_count": null,
      "outputs": []
    },
    {
      "cell_type": "code",
      "metadata": {
        "id": "TO9grOe0EARL"
      },
      "source": [
        "at=sobInt.groupBy(\"Sexo\").count().show()"
      ],
      "execution_count": null,
      "outputs": []
    },
    {
      "cell_type": "code",
      "metadata": {
        "id": "iyBrLH--EJOC"
      },
      "source": [
        "pats=sobInt.groupBy(\"Sexo\").avg().show()"
      ],
      "execution_count": null,
      "outputs": []
    },
    {
      "cell_type": "markdown",
      "metadata": {
        "id": "kleVWdQIWz4j"
      },
      "source": [
        "**Al momento del rescate se cumplió con la premisa \"Mujeres y niños primero\"**"
      ]
    },
    {
      "cell_type": "markdown",
      "metadata": {
        "id": "vE7n5lgRKlaj"
      },
      "source": [
        "Revisemos que pasó con las mujeres"
      ]
    },
    {
      "cell_type": "code",
      "metadata": {
        "id": "1l0tLTt5IWBE"
      },
      "source": [
        "m=titanic.filter(titanic.Sexo==\"Mujer\").select(\"Edad\",\"Sobrevivio\")\n",
        "m.distinct().show()\n",
        "tms=m.filter(titanic.Sobrevivio==\"Si\").count()\n",
        "tm=m.count()\n",
        "pms=tms*100/tm\n",
        "print(\"El total de mujeres que en el Titanic es: \", tm)\n",
        "print(\"El total de mujeres que sobrevivieron es: \", tms)\n",
        "print(\"El porcentaje de mujeres que sobrevivieron es: \", round(pms,1))"
      ],
      "execution_count": null,
      "outputs": []
    },
    {
      "cell_type": "markdown",
      "metadata": {
        "id": "5NpRK2X3Kr36"
      },
      "source": [
        "Ahora veamos que pasó con los niños"
      ]
    },
    {
      "cell_type": "code",
      "metadata": {
        "id": "rviwru0EG4Ki"
      },
      "source": [
        "n=titanic.filter(titanic.Edad==\"Ni�o\").select(\"Sexo\",\"Sobrevivio\")\n",
        "n.distinct().show()\n",
        "tns=n.filter(titanic.Sobrevivio==\"Si\").count()\n",
        "tn=n.count()\n",
        "pns=tns*100/tn\n",
        "print(\"El total de niños que en el Titanic es: \", tn)\n",
        "print(\"El total de niños que sobrevivieron es: \", tns)\n",
        "print(\"El porcentaje de niños que sobrevivieron es: \", round(pns,1))"
      ],
      "execution_count": null,
      "outputs": []
    },
    {
      "cell_type": "markdown",
      "metadata": {
        "id": "2ikXfnMXMw8j"
      },
      "source": [
        "Veamos que pasó con mujeres y niños"
      ]
    },
    {
      "cell_type": "code",
      "metadata": {
        "id": "_V38quhgJYnM"
      },
      "source": [
        "mn=titanic.filter(((titanic.Edad==\"Ni�o\") | (titanic.Sexo==\"Mujer\"))).select(\"Edad\",\"Sexo\",\"Sobrevivio\")\n",
        "mn.distinct().show()\n",
        "tmns=mn.filter(titanic.Sobrevivio==\"Si\").count()\n",
        "tmn=mn.count()\n",
        "pmns=tns*100/tn\n",
        "print(\"El total de mujeres y niños en el Titanic es: \", tmn)\n",
        "print(\"El total de mujeres y niños que sobrevivieron es: \", tmns)\n",
        "print(\"El porcentaje de mujeres y niños que sobrevivieron es: \", round(pmns,1))"
      ],
      "execution_count": null,
      "outputs": []
    },
    {
      "cell_type": "markdown",
      "metadata": {
        "id": "YGy1h3DUNlvC"
      },
      "source": [
        "Veamos otra forma de resolver el ejercicio"
      ]
    },
    {
      "cell_type": "code",
      "metadata": {
        "id": "OJvzNgyZNpip"
      },
      "source": [
        "titanic.distinct().show()"
      ],
      "execution_count": null,
      "outputs": []
    },
    {
      "cell_type": "code",
      "metadata": {
        "id": "HWgVNJxQOLwZ"
      },
      "source": [
        "titanicS = sqlCtx.sql(\"\"\"\n",
        "\t\tSELECT Sexo, Edad, SobrevivioInt(Sobrevivio) AS Sobrevivio\n",
        "\t\tFROM Titanic\n",
        "\t\t\"\"\")\n",
        "titanicS.distinct().show()"
      ],
      "execution_count": null,
      "outputs": []
    },
    {
      "cell_type": "code",
      "metadata": {
        "id": "kZvWouAfPThj"
      },
      "source": [
        "from pyspark.sql import functions\n",
        "from pyspark.sql.types import *\n",
        "titanicInt=titanicS.withColumn(\"Sobrevivio\",titanicS.Sobrevivio.cast(ByteType()))\n",
        "titanicInt.printSchema()\n",
        "titanicInt.distinct().show()"
      ],
      "execution_count": null,
      "outputs": []
    },
    {
      "cell_type": "code",
      "metadata": {
        "id": "r4EyCDk5Z5Vl"
      },
      "source": [
        "est=titanicInt.filter(titanicInt.Sexo==\"Mujer\").\\\n",
        "            agg(functions.sum(titanicInt.Sobrevivio))\n",
        "est.show()"
      ],
      "execution_count": null,
      "outputs": []
    },
    {
      "cell_type": "code",
      "metadata": {
        "id": "kpd3k5wcQnPp"
      },
      "source": [
        "est=titanicInt.filter(titanicInt.Edad==\"Ni�o\").\\\n",
        "            agg(functions.sum(titanicInt.Sobrevivio))\n",
        "est.show()"
      ],
      "execution_count": null,
      "outputs": []
    },
    {
      "cell_type": "code",
      "metadata": {
        "id": "CZBEYDdbR93o"
      },
      "source": [
        "est=titanicInt.filter((titanicInt.Sexo==\"Mujer\") | (titanicInt.Edad==\"Ni�o\")).\\\n",
        "            agg(functions.sum(titanicInt.Sobrevivio))\n",
        "est.show()"
      ],
      "execution_count": null,
      "outputs": []
    },
    {
      "cell_type": "markdown",
      "metadata": {
        "id": "RErfzzvSiDnB"
      },
      "source": [
        "#**Ejercicios**"
      ]
    },
    {
      "cell_type": "markdown",
      "metadata": {
        "id": "4c-xniDZFcmM"
      },
      "source": [
        "##**Hurto a personas en Colombia**"
      ]
    },
    {
      "cell_type": "markdown",
      "metadata": {
        "id": "8tcd9VsgW78j"
      },
      "source": [
        "Se dispone de un dataset que contiene información relacionada con el hurto a personas en Colombia, son mas de 100.000 casos de hurtos cometidos en el país en la última época\n",
        "\n",
        "Cada registro presenta la siguiente información\n",
        "\n",
        "* Departamento\n",
        "* Municipio\n",
        "* Día\n",
        "* Hora\n",
        "* Zona (urbana, rural)\n",
        "* Arma empleada\n",
        "* Movil agresor\n",
        "* Movil víctima\n",
        "* Edad víctima\n",
        "* Sexo víctima"
      ]
    },
    {
      "cell_type": "code",
      "source": [
        "hurtos = sqlCtx.read.option(\"header\",True) \\\n",
        "      .option(\"delimiter\",\";\") \\\n",
        "     .csv(\"local/data/hurtos.csv\")\n",
        "hurtos.show(5)"
      ],
      "metadata": {
        "id": "votO2B9YUTHG",
        "outputId": "25148a0a-e476-4c1a-ad2a-54e5d7d92481",
        "colab": {
          "base_uri": "https://localhost:8080/"
        }
      },
      "execution_count": 20,
      "outputs": [
        {
          "output_type": "stream",
          "name": "stdout",
          "text": [
            "+------------+------------+------+-----+------+-------------------+-------------+-------------+----+---------+\n",
            "|DEPARTAMENTO|   MUNICIPIO|  DIA |HORA |  ZONA|      ARMA EMPLEADA|MOVIL AGRESOR|MOVIL VICTIMA|EDAD|     SEXO|\n",
            "+------------+------------+------+-----+------+-------------------+-------------+-------------+----+---------+\n",
            "|    AMAZONAS|LETICIA (CT)|Jueves|18:10|URBANA|        ARMA BLANCA|        A PIE|        A PIE|  26| FEMENINO|\n",
            "|   ANTIOQUIA|       BELLO|Jueves| 0:00|URBANA|SIN EMPLEO DE ARMAS|        A PIE|        A PIE|  46| FEMENINO|\n",
            "|   ANTIOQUIA|    CAUCASIA|Jueves|15:20|URBANA|SIN EMPLEO DE ARMAS|        A PIE|        A PIE|  29|MASCULINO|\n",
            "|   ANTIOQUIA|      GUARNE|Jueves|19:00| RURAL|SIN EMPLEO DE ARMAS|        A PIE|        A PIE|  39|MASCULINO|\n",
            "|   ANTIOQUIA|      ITAGUI|Jueves|14:00|URBANA|       CONTUNDENTES|        A PIE|        A PIE|  27|MASCULINO|\n",
            "+------------+------------+------+-----+------+-------------------+-------------+-------------+----+---------+\n",
            "only showing top 5 rows\n",
            "\n"
          ]
        }
      ]
    },
    {
      "cell_type": "code",
      "source": [
        "muniTop10 = hurtos.filter(hurtos.DEPARTAMENTO == \"ANTIOQUIA\").groupBy(\"MUNICIPIO\").count().orderBy(\"count\", ascending=False).limit(10).show()"
      ],
      "metadata": {
        "id": "HqdII9N0WCy4",
        "outputId": "555aabba-8c55-4376-e12c-0474886f6cda",
        "colab": {
          "base_uri": "https://localhost:8080/"
        }
      },
      "execution_count": 26,
      "outputs": [
        {
          "output_type": "stream",
          "name": "stdout",
          "text": [
            "+-------------+-----+\n",
            "|    MUNICIPIO|count|\n",
            "+-------------+-----+\n",
            "|MEDELLÍN (CT)| 7830|\n",
            "|     ENVIGADO|  757|\n",
            "|       ITAGUI|  681|\n",
            "|        BELLO|  562|\n",
            "|     RIONEGRO|  360|\n",
            "|     SABANETA|  228|\n",
            "|   COPACABANA|  147|\n",
            "|     CAUCASIA|  112|\n",
            "|      LA CEJA|  107|\n",
            "|     APARTADÓ|  105|\n",
            "+-------------+-----+\n",
            "\n"
          ]
        }
      ]
    },
    {
      "cell_type": "code",
      "source": [
        "muniMin10 = hurtos.filter(hurtos.DEPARTAMENTO == \"ANTIOQUIA\").groupBy(\"MUNICIPIO\").count().orderBy(\"count\", ascending=True).limit(10).show()"
      ],
      "metadata": {
        "id": "hTx8vPo9Y5Kr",
        "outputId": "1c7cc7a8-bf6f-48b1-8925-a16dfdeacc35",
        "colab": {
          "base_uri": "https://localhost:8080/"
        }
      },
      "execution_count": 27,
      "outputs": [
        {
          "output_type": "stream",
          "name": "stdout",
          "text": [
            "+-----------+-----+\n",
            "|  MUNICIPIO|count|\n",
            "+-----------+-----+\n",
            "|PUEBLORRICO|    1|\n",
            "|      NECHÍ|    1|\n",
            "|      PEQUE|    1|\n",
            "|  HELICONIA|    1|\n",
            "|       YALÍ|    1|\n",
            "|    VEGACHÍ|    1|\n",
            "|   CAROLINA|    1|\n",
            "|    BETULIA|    1|\n",
            "| VALPARAÍSO|    1|\n",
            "|PUERTO NARE|    1|\n",
            "+-----------+-----+\n",
            "\n"
          ]
        }
      ]
    },
    {
      "cell_type": "code",
      "source": [
        "armas = hurtos.filter(hurtos[\"ARMA EMPLEADA\"] != \"SIN EMPLEO DE ARMAS\").groupBy(\"ARMA EMPLEADA\", \"ZONA\").count().orderBy(\"count\", ascending=False).show()"
      ],
      "metadata": {
        "id": "7zie-DN-ZRdr",
        "outputId": "0c6eae5f-0d04-4975-ec4f-e3c0ed61dd27",
        "colab": {
          "base_uri": "https://localhost:8080/"
        }
      },
      "execution_count": 30,
      "outputs": [
        {
          "output_type": "stream",
          "name": "stdout",
          "text": [
            "+-------------+------+-----+\n",
            "|ARMA EMPLEADA|  ZONA|count|\n",
            "+-------------+------+-----+\n",
            "|  ARMA BLANCA|URBANA|18713|\n",
            "|ARMA DE FUEGO|URBANA|18126|\n",
            "| CONTUNDENTES|URBANA|12837|\n",
            "|ARMA DE FUEGO| RURAL| 1692|\n",
            "| ESCOPOLAMINA|URBANA|  877|\n",
            "| CONTUNDENTES| RURAL|  665|\n",
            "|    CORTANTES|URBANA|  516|\n",
            "|  ARMA BLANCA| RURAL|  513|\n",
            "| NO REPORTADO|URBANA|  399|\n",
            "|        PERRO|URBANA|   65|\n",
            "|    CORTANTES| RURAL|   43|\n",
            "| NO REPORTADO| RURAL|   31|\n",
            "| ESCOPOLAMINA| RURAL|   16|\n",
            "|      JERINGA|URBANA|    8|\n",
            "|        PERRO| RURAL|    3|\n",
            "+-------------+------+-----+\n",
            "\n"
          ]
        }
      ]
    },
    {
      "cell_type": "markdown",
      "metadata": {
        "id": "EUrvTbNtW--j"
      },
      "source": [
        "Utilizando Data Frames, resuelva a las siguientes inquietudes:\n",
        "\n",
        "1. Top 10 de los municipios de Antioquia que presentan mayor y menor número de hurtos\n",
        "2. Tipos de armas más utilizadas en zona urbana y rural\n",
        "3. Promedio de edad de las víctimas por departamento\n",
        "4. Tipo de vehículo más utilizado para los hurtos en los fines de semana\n",
        "5. Promedio de casos de hurto por sexo para cada día de la semana\n",
        "6. Municipio de Colombia que presenta mayor número de hurtos a mujeres mayores de 40 años"
      ]
    },
    {
      "cell_type": "code",
      "source": [
        "hurtos.fillna(18, subset=['EDAD'])"
      ],
      "metadata": {
        "id": "2xvezKcZcBqv",
        "outputId": "4552eee5-c840-4c64-9af2-a175d305ec1f",
        "colab": {
          "base_uri": "https://localhost:8080/"
        }
      },
      "execution_count": 36,
      "outputs": [
        {
          "output_type": "execute_result",
          "data": {
            "text/plain": [
              "DataFrame[DEPARTAMENTO: string, MUNICIPIO: string, DIA : string, HORA : string, ZONA: string, ARMA EMPLEADA: string, MOVIL AGRESOR: string, MOVIL VICTIMA: string, EDAD: string, SEXO: string]"
            ]
          },
          "metadata": {},
          "execution_count": 36
        }
      ]
    },
    {
      "cell_type": "code",
      "source": [
        "edad = hurtos.groupBy(\"DEPARTAMENTO\", \"EDAD\").avg().show()"
      ],
      "metadata": {
        "id": "vbNkWbrNbacN",
        "outputId": "331b93cd-54bc-4b22-d00e-86b12e794c78",
        "colab": {
          "base_uri": "https://localhost:8080/"
        }
      },
      "execution_count": 37,
      "outputs": [
        {
          "output_type": "stream",
          "name": "stdout",
          "text": [
            "+------------------+----+\n",
            "|      DEPARTAMENTO|EDAD|\n",
            "+------------------+----+\n",
            "|         SANTANDER|  24|\n",
            "|         SANTANDER|null|\n",
            "|             VALLE|  82|\n",
            "|         ATLÁNTICO|  57|\n",
            "|             CAUCA|  18|\n",
            "|NORTE DE SANTANDER|  78|\n",
            "|         ANTIOQUIA|  89|\n",
            "|          GUAVIARE|  57|\n",
            "|         SANTANDER|  32|\n",
            "|             VALLE|  52|\n",
            "|              META|  56|\n",
            "|         SANTANDER|  21|\n",
            "|         RISARALDA|  39|\n",
            "|           GUAJIRA|  20|\n",
            "|          AMAZONAS|  58|\n",
            "|             HUILA|  77|\n",
            "|          AMAZONAS|  68|\n",
            "|             CAUCA|  65|\n",
            "|           CAQUETÁ|  28|\n",
            "|           QUINDÍO|  56|\n",
            "+------------------+----+\n",
            "only showing top 20 rows\n",
            "\n"
          ]
        }
      ]
    },
    {
      "cell_type": "markdown",
      "metadata": {
        "id": "dIqPclAyXbUb"
      },
      "source": [
        "##**Covid 19 en Colombia**"
      ]
    },
    {
      "cell_type": "markdown",
      "metadata": {
        "id": "jiAJX-krXfWb"
      },
      "source": [
        "Se dispone de un set de datos que describen la situación del covid19 en Colombia obtenidos de https://www.datos.gov.co/\n",
        "\n",
        "Estos datos relacionan los casos positivos en Colombia a través de las siguientes variables\n",
        "\n",
        "\n",
        "\n",
        "*   Ciudad\n",
        "*   Departamento\n",
        "*   Atención (casa, fallecido, hospital, hospital/uci, recuperado)\n",
        "*   Edad\n",
        "*   Tipo (En estudio, importado, relacionado)\n",
        "*   Estado (Asintomático, Fallecido, Grave, Leve, Moderado)\n",
        "\n",
        "Utilicemos Data Frame para solucionar las siguientes inquietudes"
      ]
    },
    {
      "cell_type": "markdown",
      "metadata": {
        "id": "kEy2H_g6XlqD"
      },
      "source": [
        "**1. Cuánto es el total de fallecidos y recuperados en el país**\n"
      ]
    },
    {
      "cell_type": "markdown",
      "metadata": {
        "id": "hRNoCf1KX7Jv"
      },
      "source": [
        "**2.   Afectará la pandemia a hombres y  mujeres por igual**\n"
      ]
    },
    {
      "cell_type": "markdown",
      "metadata": {
        "id": "JAa5w35ZX_m7"
      },
      "source": [
        "**3.   Cuál es el promedio de edad de los afectados**\n"
      ]
    },
    {
      "cell_type": "markdown",
      "metadata": {
        "id": "ecf7zL8lYDTL"
      },
      "source": [
        "**4.   Cuál es el departamento que presenta mayor número de casos**"
      ]
    },
    {
      "cell_type": "markdown",
      "metadata": {
        "id": "4WmN0Lb4YIEV"
      },
      "source": [
        "**5.   Qué porcentaje de los casos son importados**"
      ]
    },
    {
      "cell_type": "markdown",
      "metadata": {
        "id": "55QXSFF4YMLT"
      },
      "source": [
        "**6.   Es cierto que en Cartagena la mayoría de los casos son importados**"
      ]
    }
  ]
}