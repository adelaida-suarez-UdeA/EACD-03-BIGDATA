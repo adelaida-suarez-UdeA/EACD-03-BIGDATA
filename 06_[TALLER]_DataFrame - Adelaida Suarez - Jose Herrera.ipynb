{
  "cells": [
    {
      "cell_type": "markdown",
      "metadata": {
        "id": "view-in-github",
        "colab_type": "text"
      },
      "source": [
        "<a href=\"https://colab.research.google.com/github/adelaida-suarez-UdeA/EACD-03-BIGDATA/blob/master/06_%5BTALLER%5D_DataFrame%20-%20Adelaida%20Suarez%20-%20Jose%20Herrera.ipynb\" target=\"_parent\"><img src=\"https://colab.research.google.com/assets/colab-badge.svg\" alt=\"Open In Colab\"/></a>"
      ]
    },
    {
      "cell_type": "code",
      "execution_count": 65,
      "metadata": {
        "id": "Z7rbDx_-JApm"
      },
      "outputs": [],
      "source": [
        "!wget --no-cache -O init.py -q https://raw.githubusercontent.com/UDEA-Esp-Analitica-y-Ciencia-de-Datos/EACD-03-BIGDATA/master/init.py\n",
        "import init; init.init(force_download=False);\n",
        "from IPython.display import Image"
      ]
    },
    {
      "cell_type": "code",
      "execution_count": 66,
      "metadata": {
        "id": "hDzn_xcpJRWR",
        "colab": {
          "base_uri": "https://localhost:8080/",
          "height": 251
        },
        "outputId": "fd40c4e7-68a7-4b71-cef7-b2c9467e2611"
      },
      "outputs": [
        {
          "output_type": "execute_result",
          "data": {
            "image/png": "[encoded data removed]",
            "text/plain": [
              "<IPython.core.display.Image object>"
            ]
          },
          "metadata": {},
          "execution_count": 66
        }
      ],
      "source": [
        "Image(\"local/imgs/udea-datascience.png\")"
      ]
    },
    {
      "cell_type": "code",
      "source": [
        "#Instalación\n",
        "!apt-get install openjdk-11-jdk-headless -qq > /dev/null\n",
        "!wget -q https://archive.apache.org/dist/spark/spark-3.4.0/spark-3.4.0-bin-hadoop3.tgz\n",
        "!tar xf spark-3.4.0-bin-hadoop3.tgz\n",
        "!pip install -q findspark\n",
        "\n",
        "#Variables de Entorno\n",
        "import os\n",
        "os.environ[\"JAVA_HOME\"] = \"/usr/lib/jvm/java-11-openjdk-amd64\"\n",
        "os.environ[\"SPARK_HOME\"] = \"/content/spark-3.4.0-bin-hadoop3\"\n",
        "\n",
        "#SparkContext\n",
        "import findspark\n",
        "import re\n",
        "findspark.init()\n",
        "from pyspark.sql import SparkSession, SQLContext\n",
        "from pyspark.sql.types import *\n",
        "from pyspark import SparkContext\n",
        "#from pyspark.sql.types import ArrayType, StringType\n",
        "from pyspark.sql.functions import udf, col, regexp_replace, trim, regexp_replace\n",
        "from pyspark.sql import functions as F\n",
        "from pyspark.sql.window import Window\n",
        "from pyspark.ml.feature import HashingTF, IDF, Tokenizer\n",
        "from pyspark.ml.feature import StringIndexer\n",
        "from sklearn.feature_extraction.text import TfidfVectorizer\n",
        "from sklearn.metrics.pairwise import cosine_similarity\n",
        "import nltk\n",
        "from nltk.corpus import stopwords\n",
        "from nltk.tokenize import word_tokenize\n",
        "\n",
        "spark = SparkSession.builder.master(\"local[*]\").getOrCreate()\n",
        "sc = SparkContext.getOrCreate()\n",
        "sqlCtx = SQLContext(sc)"
      ],
      "metadata": {
        "colab": {
          "base_uri": "https://localhost:8080/"
        },
        "id": "CRUOgvlPOKTZ",
        "outputId": "a015745e-54e2-4fe2-cfa6-0280f53dce44"
      },
      "execution_count": 67,
      "outputs": [
        {
          "output_type": "stream",
          "name": "stderr",
          "text": [
            "/content/spark-3.4.0-bin-hadoop3/python/pyspark/sql/context.py:112: FutureWarning: Deprecated in 3.0.0. Use SparkSession.builder.getOrCreate() instead.\n",
            "  warnings.warn(\n"
          ]
        }
      ]
    },
    {
      "cell_type": "code",
      "source": [
        "import pyspark.sql.functions as F"
      ],
      "metadata": {
        "id": "Pu9mGxvofmuD"
      },
      "execution_count": 68,
      "outputs": []
    },
    {
      "cell_type": "code",
      "source": [
        "import matplotlib.pyplot as plt\n",
        "import seaborn as sns\n",
        "sns.set()"
      ],
      "metadata": {
        "id": "0vvZbLHJ25o7"
      },
      "execution_count": 69,
      "outputs": []
    },
    {
      "cell_type": "markdown",
      "metadata": {
        "id": "myHD-jFLKEal"
      },
      "source": [
        "# **TALLER 2: DataFrame**\n",
        "## Desarrollado por: Mg. Efraín Alberto Oviedo; Ing. Kevin Martínez Gallego\n",
        "## Universidad de Antioquia"
      ]
    },
    {
      "cell_type": "markdown",
      "metadata": {
        "id": "4GK6iJ1CKS8o"
      },
      "source": [
        "Por favor, ingrese la información de cada integrante del grupo de trabajo\n",
        "\n",
        "**Nombre Completo:**\n",
        "- Maria Adelaida Suarez Restrepo\n",
        "- Jose Leonardo Herrera Gutierrez\n",
        "\n",
        "**Cédula:**\n",
        "- 1044503458\n",
        "- 1037645513\n",
        "\n",
        "**Correo Institucional:**\n",
        "- adelaida.suarez@udea.edu.co\n",
        "- jose.herrerag@udea.edu.co"
      ]
    },
    {
      "cell_type": "markdown",
      "metadata": {
        "id": "UlYY1g0lKhz_"
      },
      "source": [
        "#**Análisis de becas académicas para estudiantes Colombianos**\n",
        "\n",
        "El ICETEX ha dispuesto un histórico de becas ofrecidas para estudios de nivel de pregrado y posgrado, presenciales o virtuales, que han sido propuestas para fortalecer la formación académica de ciudadanos colombianos en el exterior.\n",
        "\n",
        "(Disponible en https://www.datos.gov.co/Educaci-n/Icetex-Hist-rico-de-Becas/eb6r-dfgr)\n",
        "\n",
        "Para cada caso se reportan los siguientes datos:\n",
        "\n",
        "* Código Convocatoria\n",
        "* Nombre del Oferente: Nombre del gobierno que ofrece la beca.\n",
        "* Área del Conocimiento\n",
        "* Nombre del Programa\n",
        "* Nombre del País\n",
        "* Fecha de Recepción -mm/dd/aaaa\n",
        "* Perfil del Aplicante\n",
        "* Objetivo del Programa: Breve descripción del programa académico.\n",
        "\n",
        "Se solicita de su ayuda para responder a los siguientes interrogantes:"
      ]
    },
    {
      "cell_type": "code",
      "source": [
        "schema = StructType() \\\n",
        "    .add(\"Codigo Convocatoria\", IntegerType(), True) \\\n",
        "    .add(\"Nombre del Oferente\", StringType(), True) \\\n",
        "    .add(\"Area del Conocimiento\", StringType(), True) \\\n",
        "    .add(\"Nombre del Programa\", StringType(), True) \\\n",
        "    .add(\"Nombre del Pais\", StringType(), True) \\\n",
        "    .add(\"Fecha de Recepcion -mm/dd/aaaa\", DateType(), True) \\\n",
        "    .add(\"Perfil del Aplicante\", StringType(), True) \\\n",
        "    .add(\"Objetivo del Programa\", StringType(), True)"
      ],
      "metadata": {
        "id": "xhqN1eVeTAFG"
      },
      "execution_count": 70,
      "outputs": []
    },
    {
      "cell_type": "code",
      "source": [
        "becasDF = sqlCtx.read.format(\"csv\") \\\n",
        "    .option(\"header\", True) \\\n",
        "    .option(\"delimiter\", \",\") \\\n",
        "    .load(\"/content/local/data/icetex_becas.csv\")"
      ],
      "metadata": {
        "id": "ajIAsqJuPo5O"
      },
      "execution_count": 71,
      "outputs": []
    },
    {
      "cell_type": "code",
      "source": [
        "print(type(becasDF))"
      ],
      "metadata": {
        "id": "rL2bXEQcwQsK",
        "outputId": "2fed2d23-09da-4e2c-cc71-5babfd592045",
        "colab": {
          "base_uri": "https://localhost:8080/"
        }
      },
      "execution_count": 72,
      "outputs": [
        {
          "output_type": "stream",
          "name": "stdout",
          "text": [
            "<class 'pyspark.sql.dataframe.DataFrame'>\n"
          ]
        }
      ]
    },
    {
      "cell_type": "code",
      "source": [
        "becasDF.show()"
      ],
      "metadata": {
        "colab": {
          "base_uri": "https://localhost:8080/"
        },
        "id": "s977nP5ERHUG",
        "outputId": "ca0106a4-6afe-4171-97f3-3e800966a27c"
      },
      "execution_count": 73,
      "outputs": [
        {
          "output_type": "stream",
          "name": "stdout",
          "text": [
            "+-------------------+--------------------+---------------------+--------------------+--------------------+------------------------------+--------------------+---------------------+\n",
            "|Codigo Convocatoria| Nombre del Oferente|Area del Conocimiento| Nombre del programa|     Nombre del País|Fecha de Recepción -mm/dd/aaaa|Perfil del Aplicante|Objetivo del Programa|\n",
            "+-------------------+--------------------+---------------------+--------------------+--------------------+------------------------------+--------------------+---------------------+\n",
            "|          2127916.0|OEA - TOP - ARGEN...|       ADMINISTRACIÓN|POLÍTICAS DE GOBI...|PLATAFORMA DE EDU...|          05/27/2016 12:00:...|El programa está ...| a) Proporcionar a...|\n",
            "|          3101616.0|ALIANZA DEL PACÍF...|     DIFERENTES AREAS|PLATAFORMA DE MOV...|Chile (República ...|                          null|El programa está ...| El objetivo del P...|\n",
            "|          2221414.0|GOBIERNO DE LA INDIA|  INGENIERIA Y AFINES|DATA COMMUNICATIO...|India (República ...|          07/30/2014 12:00:...|\"El Programa \"\"Co...| Ofrecer a los par...|\n",
            "|          3001315.0|MINISTÈRE DE L'EN...| MAESTRÍAS Y DOCTO...|REDUCCIÓN DE COLE...|     Canadá (Canadá)|                          null|El programa está ...| En la presente co...|\n",
            "|          4102316.0|ALIANZA DEL PACÍF...|     DIFERENTES AREAS|PLATAFORMA DE MOV...|Perú (República d...|                          null|\"El programa está...| El objetivo del P...|\n",
            "|          2214713.0|GOBIERNO DE LA INDIA|          HUMANIDADES|PROGRESS TO PROFI...|India (República ...|          07/26/2013 12:00:...|El Programa está ...| Brindar a los par...|\n",
            "|          3900314.0|    UNESCO - L´OREAL| CIENCIAS NATURALE...|INVESTIGACIÓN PAR...|   Diferentes Países|                          null|El programa está ...| Identificar y rec...|\n",
            "|          5202816.0|UNESCO - GOBIERNO...|     DIFERENTES AREAS|PROGRAMA LA GRAN ...|China (República ...|          04/29/2016 12:00:...|\"El programa está...| Ofrecer a profesi...|\n",
            "|          2204712.0|GOBIERNO DE JAPON...|  INGENIERIA Y AFINES|TECNOLOGÍA PRÁCTI...|       Japón (Japón)|                          null|El programa está ...| Brindar a los par...|\n",
            "|          6200312.0|UNIVERSIDAD CARLO...| POSGRADO DIFERENT...|PROGRAMA DE MAEST...|España (Reino de ...|          06/27/2012 12:00:...|El programa está ...| Brindar a profesi...|\n",
            "|          2233116.0|GOBIERNO DE LA INDIA|  INGENIERIA Y AFINES|SUSTAINABLE AGRIC...|India (República ...|                          null|\"El programa está...| El objetivo del c...|\n",
            "|          4100614.0|ALIANZA DEL PACÍF...|     DIFERENTES AREAS|PLATAFORMA DE MOV...|Chile (República ...|          11/28/2013 12:00:...|El programa está ...| El objetivo del P...|\n",
            "|          5202316.0|GOBIERNO DE LA INDIA|       ADMINISTRACIÓN|POST GRADUATE DIP...|India (República ...|                          null|\"El programa está...| El objetivo del p...|\n",
            "|          2000612.0|OEA - GOBIERNO DE...| DERECHO Y CIENCIA...|\"XXXIX CURSO DE D...|Brasil (República...|          04/30/2012 12:00:...|El programa está ...| Estudio- discusió...|\n",
            "|          6210416.0|   CURTIN UNIVERSITY| MAESTRÍAS EN DIFE...|MAESTRÍAS EN DIFE...|Australia (Mancom...|                          null|El programa está ...| Ofrecer a profesi...|\n",
            "|          2227715.0|GOBIERNO DE LA INDIA| CIENCIAS NATURALE...|NATURAL RESOURCE ...|India (República ...|                          null|El Programa está ...| Brindar a los par...|\n",
            "|          6110015.0|INSTITUTO EUROPEO...| MAESTRÍAS EN DIFE...|MBA MAESTRÍAS Y E...|España (Reino de ...|          05/19/2015 12:00:...|El programa está ...| Brindar a los par...|\n",
            "|          6003512.0|   GOBIERNO DE SUIZA| POSGRADO DIFERENT...|POSGRADO EN DIFER...|Suiza (Confederac...|          10/24/2011 12:00:...|El programa está ...| Brindar a los pro...|\n",
            "|          2105611.0|GOBIERNO DE JAPON...| CIENCIAS AGROPECU...|METODOLOGÍAS DE E...|       Japón (Japón)|                          null|El programa está ...| Implementar el pr...|\n",
            "|          2222714.0|SINGAPORE COOPERA...| ADMINISTRACIÓN - ...|HUMAN RESOURCE MA...|Singapur (Repúbli...|          09/29/2014 12:00:...|El programa esta ...| El curso tiene co...|\n",
            "+-------------------+--------------------+---------------------+--------------------+--------------------+------------------------------+--------------------+---------------------+\n",
            "only showing top 20 rows\n",
            "\n"
          ]
        }
      ]
    },
    {
      "cell_type": "code",
      "source": [
        "becasDF.printSchema()"
      ],
      "metadata": {
        "colab": {
          "base_uri": "https://localhost:8080/"
        },
        "id": "sCdz99a0RKpi",
        "outputId": "05209d1c-ef53-4f6e-e02e-b9f4f2c4e706"
      },
      "execution_count": 74,
      "outputs": [
        {
          "output_type": "stream",
          "name": "stdout",
          "text": [
            "root\n",
            " |-- Codigo Convocatoria: string (nullable = true)\n",
            " |-- Nombre del Oferente: string (nullable = true)\n",
            " |-- Area del Conocimiento: string (nullable = true)\n",
            " |-- Nombre del programa: string (nullable = true)\n",
            " |-- Nombre del País: string (nullable = true)\n",
            " |-- Fecha de Recepción -mm/dd/aaaa: string (nullable = true)\n",
            " |-- Perfil del Aplicante: string (nullable = true)\n",
            " |-- Objetivo del Programa: string (nullable = true)\n",
            "\n"
          ]
        }
      ]
    },
    {
      "cell_type": "markdown",
      "metadata": {
        "id": "GAyH6mgGK3VA"
      },
      "source": [
        "##**A) Calidad de datos**\n",
        "\n",
        "Revise cada una de las variables disponibles y resuelva los problemas de calidad de datos que puedan afectar el desarrollo de este taller, justificando las razones de su decisión para cada caso\n"
      ]
    },
    {
      "cell_type": "markdown",
      "metadata": {
        "id": "F-njqbnTM2To"
      },
      "source": [
        "Presente aquí el código desarrollado y el resultado obtenido"
      ]
    },
    {
      "cell_type": "code",
      "source": [
        "# Se convierte la columna Codigo Convocatoria en entero\n",
        "becasDF = becasDF \\\n",
        "    .withColumn(\"Codigo Convocatoria\", F.col(\"Codigo Convocatoria\").cast(IntegerType()))\n",
        "\n",
        "# Se eliminan los espacios blancos al inicio y final en las columnas de texto\n",
        "# para asegurar que el contenido sea estandarizado\n",
        "becasDF = becasDF \\\n",
        "    .withColumn(\"Nombre del Oferente\", F.trim(F.col(\"Nombre del Oferente\"))) \\\n",
        "    .withColumn(\"Area del Conocimiento\", F.trim(F.col(\"Area del Conocimiento\"))) \\\n",
        "    .withColumn(\"Nombre del Programa\", F.trim(F.col(\"Nombre del Programa\"))) \\\n",
        "    .withColumn(\"Nombre del País\", F.trim(F.col(\"Nombre del País\"))) \\\n",
        "    .withColumn(\"Perfil del Aplicante\", F.trim(F.col(\"Perfil del Aplicante\"))) \\\n",
        "    .withColumn(\"Objetivo del Programa\", F.trim(F.col(\"Objetivo del Programa\")))\n",
        "\n",
        "# Se ponen en minusculas todas las columnas de texto\n",
        "becasDF = becasDF \\\n",
        "    .withColumn(\"Nombre del Oferente\", F.lower(F.col(\"Nombre del Oferente\"))) \\\n",
        "    .withColumn(\"Area del Conocimiento\", F.lower(F.col(\"Area del Conocimiento\"))) \\\n",
        "    .withColumn(\"Nombre del Programa\", F.lower(F.col(\"Nombre del Programa\"))) \\\n",
        "    .withColumn(\"Nombre del País\", F.lower(F.col(\"Nombre del País\"))) \\\n",
        "    .withColumn(\"Perfil del Aplicante\", F.lower(F.col(\"Perfil del Aplicante\"))) \\\n",
        "    .withColumn(\"Objetivo del Programa\", F.lower(F.col(\"Objetivo del Programa\")))\n",
        "\n",
        "# Se reemplazan las tildes\n",
        "\n",
        "becasDF = becasDF \\\n",
        "    .withColumn(\"Nombre del Oferente\", F.translate(\"Nombre del Oferente\", \"áéíóú\", \"aeiou\")) \\\n",
        "    .withColumn(\"Area del Conocimiento\", F.translate(\"Area del Conocimiento\", \"áéíóú\", \"aeiou\")) \\\n",
        "    .withColumn(\"Nombre del Programa\", F.translate(\"Nombre del Programa\", \"áéíóú\", \"aeiou\")) \\\n",
        "    .withColumn(\"Nombre del País\", F.translate(\"Nombre del País\", \"áéíóú\", \"aeiou\")) \\\n",
        "    .withColumn(\"Perfil del Aplicante\", F.translate(\"Perfil del Aplicante\", \"áéíóú\", \"aeiou\")) \\\n",
        "    .withColumn(\"Objetivo del Programa\", F.translate(\"Objetivo del Programa\", \"áéíóú\", \"aeiou\"))\n",
        "\n",
        "# Se remueve el caracter '\"' en la columna Perfil del Aplicante\n",
        "\n",
        "becasDF = becasDF \\\n",
        "    .withColumn(\"Perfil del Aplicante\", F.regexp_replace(F.col(\"Perfil del Aplicante\"), '\"', ''))\n",
        "\n",
        "# Se convierte la columna Fecha de Recepcion -mm/dd/aaaa a formato de fecha\n",
        "\n",
        "becasDF = becasDF \\\n",
        "    .withColumn(\"Fecha de Recepción -mm/dd/aaaa\", F.to_timestamp(F.col(\"Fecha de Recepción -mm/dd/aaaa\"), 'MM/dd/yyyy hh:mm:ss a'))\n"
      ],
      "metadata": {
        "id": "EvngUMdeV3gK"
      },
      "execution_count": 75,
      "outputs": []
    },
    {
      "cell_type": "code",
      "source": [
        "# Mostrar las filas duplicadas\n",
        "\n",
        "becasDF.exceptAll(becasDF.dropDuplicates()).show()"
      ],
      "metadata": {
        "colab": {
          "base_uri": "https://localhost:8080/"
        },
        "id": "i8E8qnCit5ZL",
        "outputId": "243e1e25-76be-462d-b521-6e7884eaef83"
      },
      "execution_count": 76,
      "outputs": [
        {
          "output_type": "stream",
          "name": "stdout",
          "text": [
            "+-------------------+-------------------+---------------------+-------------------+---------------+------------------------------+--------------------+---------------------+\n",
            "|Codigo Convocatoria|Nombre del Oferente|Area del Conocimiento|Nombre del Programa|Nombre del País|Fecha de Recepción -mm/dd/aaaa|Perfil del Aplicante|Objetivo del Programa|\n",
            "+-------------------+-------------------+---------------------+-------------------+---------------+------------------------------+--------------------+---------------------+\n",
            "+-------------------+-------------------+---------------------+-------------------+---------------+------------------------------+--------------------+---------------------+\n",
            "\n"
          ]
        }
      ]
    },
    {
      "cell_type": "code",
      "source": [
        "# Mostrar los registros con null\n",
        "\n",
        "becasDF.exceptAll(becasDF.na.drop()).show()"
      ],
      "metadata": {
        "colab": {
          "base_uri": "https://localhost:8080/"
        },
        "id": "Akmjv87vueRW",
        "outputId": "4a32967d-d363-410a-8737-dd6da04e5596"
      },
      "execution_count": 77,
      "outputs": [
        {
          "output_type": "stream",
          "name": "stdout",
          "text": [
            "+-------------------+--------------------+---------------------+--------------------+--------------------+------------------------------+--------------------+---------------------+\n",
            "|Codigo Convocatoria| Nombre del Oferente|Area del Conocimiento| Nombre del Programa|     Nombre del País|Fecha de Recepción -mm/dd/aaaa|Perfil del Aplicante|Objetivo del Programa|\n",
            "+-------------------+--------------------+---------------------+--------------------+--------------------+------------------------------+--------------------+---------------------+\n",
            "|            6200212|gobierno de indon...|     diferentes areas|maestria en difer...|indonesia (republ...|                          null|el programa esta ...| con el fin de est...|\n",
            "|            2211413|gobierno de la india|          humanidades|certificate cours...|india (republica ...|                          null|el programa curso...| brindar a los par...|\n",
            "|            2102115|  gobierno de egipto| ciencias agropecu...|tecnologia de pro...|egipto (republica...|                          null|el programa esta ...| proporcionar a lo...|\n",
            "|            2102711|centro de estudio...| administracion - ...|curso practico de...|españa (reino de ...|                          null|el programa esta ...| >dar una vision e...|\n",
            "|            2112114|  gobierno de israel| administracion - ...|sistemas de apoyo...|israel (estado de...|                          null|el programa esta ...| > ampliar sus con...|\n",
            "|            2231415|  gobierno de israel| ciencias naturale...|crop production u...|israel (estado de...|                          null|el programa esta ...| el curso tiene co...|\n",
            "|            6109715|esden business sc...|     diferentes areas|international mba...|españa (reino de ...|                          null|el programa esta ...| llevar a cabo los...|\n",
            "|            2214213|gobierno de la india|  ingenieria y afines|advanced course i...|india (republica ...|                          null|el programa curso...| ofrecer a los par...|\n",
            "|            2123315|oea - top - argen...|    ciencias sociales|medicion y evalua...|plataforma de edu...|                          null|el programa esta ...| a) proporcionar a...|\n",
            "|            2114814|oea - gobierno de...|         bellas artes|3er cinergia lab:...|costa rica (repub...|                          null|el programa esta ...| fortalecer el con...|\n",
            "|            6800514|gobierno de la re...| posgrado diferent...|estudios de posgr...|china (republica ...|                          null|el programa esta ...| mediante el conve...|\n",
            "|            2130416|oea - fondo verde...| ciencias naturale...|diploma en evalua...|peru (republica d...|                          null|el programa esta ...| > difundir los co...|\n",
            "|            2508211|unesco - federaci...|  ingenieria y afines|diferentes cursos...|rusia (federacion...|                          null|el programa esta ...| mejorar la capaci...|\n",
            "|            2114411|oea- citel- gobie...|  ingenieria y afines|tecnologias de re...|plataforma de edu...|                          null|el programa esta ...| objetivo general:...|\n",
            "|            2211013|gobierno de la india|       administracion|audit of public s...|india (republica ...|                          null|el programa audit...| brindar a los par...|\n",
            "|            2234516|gobierno de la india|       administracion|trainers training...|india (republica ...|                          null|el programa esta ...| el objetivo del p...|\n",
            "|            2110913|  gobierno de israel| ciencias de la ed...|la educacion para...|israel (estado de...|                          null|el programa esta ...| > analizar el pap...|\n",
            "|            3201116|gobierno de suiza...| doctorado en dife...|estudios de inves...|suiza (confederac...|                          null|el programa esta ...| brindar a los pro...|\n",
            "|            2220414|gobierno de la india|  ingenieria y afines|specialized progr...|india (republica ...|                          null|el programa espec...| ofrecer a los par...|\n",
            "|            2200912|gobierno de la india|  ingenieria y afines|diploma in advanc...|india (republica ...|                          null|el programa diplo...| ofrecer a los par...|\n",
            "+-------------------+--------------------+---------------------+--------------------+--------------------+------------------------------+--------------------+---------------------+\n",
            "only showing top 20 rows\n",
            "\n"
          ]
        }
      ]
    },
    {
      "cell_type": "code",
      "source": [
        "becasDF.show()"
      ],
      "metadata": {
        "colab": {
          "base_uri": "https://localhost:8080/"
        },
        "id": "jGHWHKr7g7GD",
        "outputId": "e827ae95-7db5-4909-82f5-3e0821f79ef3"
      },
      "execution_count": 78,
      "outputs": [
        {
          "output_type": "stream",
          "name": "stdout",
          "text": [
            "+-------------------+--------------------+---------------------+--------------------+--------------------+------------------------------+--------------------+---------------------+\n",
            "|Codigo Convocatoria| Nombre del Oferente|Area del Conocimiento| Nombre del Programa|     Nombre del País|Fecha de Recepción -mm/dd/aaaa|Perfil del Aplicante|Objetivo del Programa|\n",
            "+-------------------+--------------------+---------------------+--------------------+--------------------+------------------------------+--------------------+---------------------+\n",
            "|            2127916|oea - top - argen...|       administracion|politicas de gobi...|plataforma de edu...|           2016-05-27 00:00:00|el programa esta ...| a) proporcionar a...|\n",
            "|            3101616|alianza del pacif...|     diferentes areas|plataforma de mov...|chile (republica ...|                          null|el programa esta ...| el objetivo del p...|\n",
            "|            2221414|gobierno de la india|  ingenieria y afines|data communicatio...|india (republica ...|           2014-07-30 00:00:00|el programa comun...| ofrecer a los par...|\n",
            "|            3001315|ministère de l'en...| maestrias y docto...|reduccion de cole...|     canada (canada)|                          null|el programa esta ...| en la presente co...|\n",
            "|            4102316|alianza del pacif...|     diferentes areas|plataforma de mov...|peru (republica d...|                          null|el programa esta ...| el objetivo del p...|\n",
            "|            2214713|gobierno de la india|          humanidades|progress to profi...|india (republica ...|           2013-07-26 00:00:00|el programa esta ...| brindar a los par...|\n",
            "|            3900314|    unesco - l´oreal| ciencias naturale...|investigacion par...|   diferentes paises|                          null|el programa esta ...| identificar y rec...|\n",
            "|            5202816|unesco - gobierno...|     diferentes areas|programa la gran ...|china (republica ...|           2016-04-29 00:00:00|el programa esta ...| ofrecer a profesi...|\n",
            "|            2204712|gobierno de japon...|  ingenieria y afines|tecnologia practi...|       japon (japon)|                          null|el programa esta ...| brindar a los par...|\n",
            "|            6200312|universidad carlo...| posgrado diferent...|programa de maest...|españa (reino de ...|           2012-06-27 00:00:00|el programa esta ...| brindar a profesi...|\n",
            "|            2233116|gobierno de la india|  ingenieria y afines|sustainable agric...|india (republica ...|                          null|el programa esta ...| el objetivo del c...|\n",
            "|            4100614|alianza del pacif...|     diferentes areas|plataforma de mov...|chile (republica ...|           2013-11-28 00:00:00|el programa esta ...| el objetivo del p...|\n",
            "|            5202316|gobierno de la india|       administracion|post graduate dip...|india (republica ...|                          null|el programa esta ...| el objetivo del p...|\n",
            "|            2000612|oea - gobierno de...| derecho y ciencia...|\"xxxix curso de d...|brasil (republica...|           2012-04-30 00:00:00|el programa esta ...| estudio- discusio...|\n",
            "|            6210416|   curtin university| maestrias en dife...|maestrias en dife...|australia (mancom...|                          null|el programa esta ...| ofrecer a profesi...|\n",
            "|            2227715|gobierno de la india| ciencias naturale...|natural resource ...|india (republica ...|                          null|el programa esta ...| brindar a los par...|\n",
            "|            6110015|instituto europeo...| maestrias en dife...|mba maestrias y e...|españa (reino de ...|           2015-05-19 00:00:00|el programa esta ...| brindar a los par...|\n",
            "|            6003512|   gobierno de suiza| posgrado diferent...|posgrado en difer...|suiza (confederac...|           2011-10-24 00:00:00|el programa esta ...| brindar a los pro...|\n",
            "|            2105611|gobierno de japon...| ciencias agropecu...|metodologias de e...|       japon (japon)|                          null|el programa esta ...| implementar el pr...|\n",
            "|            2222714|singapore coopera...| administracion - ...|human resource ma...|singapur (republi...|           2014-09-29 00:00:00|el programa esta ...| el curso tiene co...|\n",
            "+-------------------+--------------------+---------------------+--------------------+--------------------+------------------------------+--------------------+---------------------+\n",
            "only showing top 20 rows\n",
            "\n"
          ]
        }
      ]
    },
    {
      "cell_type": "markdown",
      "metadata": {
        "id": "pDX41ab4LO7g"
      },
      "source": [
        "##**B) Aumento de ofertas de becas**\n",
        "\n",
        "Identifique si la cantidad de becas ofrecidas para ciudadanos colombianos se ha incrementado con los años"
      ]
    },
    {
      "cell_type": "code",
      "source": [
        "becasYearDF = becasDF.groupBy(F.year(\"Fecha de Recepción -mm/dd/aaaa\").alias(\"year\")).count().orderBy(\"year\")"
      ],
      "metadata": {
        "id": "tLFXDB78uzP3"
      },
      "execution_count": 79,
      "outputs": []
    },
    {
      "cell_type": "code",
      "source": [
        "becasYearDF.show()"
      ],
      "metadata": {
        "colab": {
          "base_uri": "https://localhost:8080/"
        },
        "id": "7n2rPG3lvvbD",
        "outputId": "8e165afd-81a7-4f59-b9bc-f05dfe2a04c8"
      },
      "execution_count": 80,
      "outputs": [
        {
          "output_type": "stream",
          "name": "stdout",
          "text": [
            "+----+-----+\n",
            "|year|count|\n",
            "+----+-----+\n",
            "|null|  647|\n",
            "|2011|  126|\n",
            "|2012|  135|\n",
            "|2013|  121|\n",
            "|2014|  165|\n",
            "|2015|  114|\n",
            "|2016|  177|\n",
            "+----+-----+\n",
            "\n"
          ]
        }
      ]
    },
    {
      "cell_type": "code",
      "source": [
        "plt.plot(becasYearDF.select(\"year\").collect(), becasYearDF.select(\"count\").collect())"
      ],
      "metadata": {
        "colab": {
          "base_uri": "https://localhost:8080/",
          "height": 456
        },
        "id": "5dBfWrNFv4dU",
        "outputId": "49a60855-6196-4053-8280-cc81736c406e"
      },
      "execution_count": 81,
      "outputs": [
        {
          "output_type": "execute_result",
          "data": {
            "text/plain": [
              "[<matplotlib.lines.Line2D at 0x7ff543a882b0>]"
            ]
          },
          "metadata": {},
          "execution_count": 81
        },
        {
          "output_type": "display_data",
          "data": {
            "text/plain": [
              "<Figure size 640x480 with 1 Axes>"
            ],
            "image/png": "[encoded data removed]"
          },
          "metadata": {}
        }
      ]
    },
    {
      "cell_type": "markdown",
      "source": [],
      "metadata": {
        "id": "GZ_JHqJVvjZ0"
      }
    },
    {
      "cell_type": "markdown",
      "metadata": {
        "id": "T89Y60StLUuh"
      },
      "source": [
        "##**C) Paises que han ofrecido becas**\n",
        "\n",
        "Presente un listado con todos los países (diferentes de Colombia) de los que se tiene reporte que han ofrecido becas para estudiantes colombianos (*solamente presentar nombres de países, y estos solo deben aparecer una única vez en la lista*)"
      ]
    },
    {
      "cell_type": "code",
      "source": [
        "becasDF.registerTempTable(\"Becas\")"
      ],
      "metadata": {
        "id": "Nw5EYvSw6iUH"
      },
      "execution_count": 97,
      "outputs": []
    },
    {
      "cell_type": "code",
      "source": [
        "becasDF = becasDF.withColumn(\n",
        "    \"Nombre del País\",\n",
        "    regexp_replace(\"Nombre del País\", r\"\\s*\\(.*?\\)\", \"\")\n",
        ")"
      ],
      "metadata": {
        "id": "MpxlZiiRHHmv"
      },
      "execution_count": 98,
      "outputs": []
    },
    {
      "cell_type": "code",
      "source": [
        "distinct_countries = sqlCtx.sql(\"\"\"\n",
        "    SELECT DISTINCT(`Nombre del País`)\n",
        "    FROM Becas\n",
        "    WHERE `Nombre del País` NOT LIKE '%colombia%'\n",
        "    AND `Nombre del País` NOT LIKE '%plataforma%'\n",
        "    AND `Nombre del País` NOT LIKE '%diferentes%'\n",
        "    ORDER BY `Nombre del País` ASC\n",
        "    \"\"\").collect()"
      ],
      "metadata": {
        "id": "Edjp2YGb6uss"
      },
      "execution_count": 105,
      "outputs": []
    },
    {
      "cell_type": "code",
      "source": [
        "distinct_countries_list = [r['Nombre del País'] for r in distinct_countries]"
      ],
      "metadata": {
        "id": "LE8RpCi-89pn"
      },
      "execution_count": 106,
      "outputs": []
    },
    {
      "cell_type": "code",
      "source": [
        "distinct_countries_list"
      ],
      "metadata": {
        "colab": {
          "base_uri": "https://localhost:8080/"
        },
        "id": "mSdbScLW9FlC",
        "outputId": "177ace5c-7322-4c40-9dcc-b22d9bf4700f"
      },
      "execution_count": 107,
      "outputs": [
        {
          "output_type": "execute_result",
          "data": {
            "text/plain": [
              "['argentina',\n",
              " 'australia',\n",
              " 'barbados jamaica & trinidad y tobago',\n",
              " 'belgica',\n",
              " 'belice',\n",
              " 'brasil',\n",
              " 'brunei',\n",
              " 'canada',\n",
              " 'checa rep.',\n",
              " 'chile',\n",
              " 'china',\n",
              " 'corea del sur',\n",
              " 'costa rica',\n",
              " 'ecuador',\n",
              " 'egipto',\n",
              " 'españa',\n",
              " 'estados unidos',\n",
              " 'estados unidos mexicanos españa y alemania',\n",
              " 'estados unidos reino unido emiratos arabes china.',\n",
              " 'francia',\n",
              " 'honduras',\n",
              " 'hungria',\n",
              " 'india',\n",
              " 'indonesia',\n",
              " 'israel',\n",
              " 'italia',\n",
              " 'japon',\n",
              " 'malasia',\n",
              " 'mexico',\n",
              " 'nicaragua',\n",
              " 'nueva zelanda',\n",
              " 'panama',\n",
              " 'paraguay',\n",
              " 'peru',\n",
              " 'polonia',\n",
              " 'puerto rico',\n",
              " 'reino unido',\n",
              " 'rusia',\n",
              " 'singapur',\n",
              " 'suecia',\n",
              " 'suiza',\n",
              " 'tailandia',\n",
              " 'taiwan',\n",
              " 'trinidad y tobago',\n",
              " 'turquia',\n",
              " 'uruguay']"
            ]
          },
          "metadata": {},
          "execution_count": 107
        }
      ]
    },
    {
      "cell_type": "markdown",
      "metadata": {
        "id": "WlI7cjLXLdlQ"
      },
      "source": [
        "##**D) Áreas del conocimiento y Posgrados**\n",
        "\n",
        "Se desea averiguar cúal es el área de conocimiento predominante por país. Además, queremos conocer qué porcentaje de los programas ofrecidos (**de acuerdo al nombre del programa**) corresponden a estudios de posgrado."
      ]
    },
    {
      "cell_type": "code",
      "source": [
        "def checkPostgraduate(program):\n",
        "  '''\n",
        "  Verifica si el programa es de posgrado\n",
        "\n",
        "  Args:\n",
        "    program: Nombre del programa\n",
        "\n",
        "  Returns:\n",
        "    1 si el programa es de posgrado, 0 en caso contrario\n",
        "  '''\n",
        "  if any(w in program for w in [\"posgrado\", \"especializacion\", 'maestria']):\n",
        "    return 1\n",
        "  else:\n",
        "    return 0\n",
        "\n",
        "sqlCtx.registerFunction(\"checkPostgraduate\", checkPostgraduate)"
      ],
      "metadata": {
        "colab": {
          "base_uri": "https://localhost:8080/",
          "height": 221
        },
        "id": "FvCXEB0-9i8o",
        "outputId": "a4d38dfb-a9ae-430a-eab0-dfd640f46d32"
      },
      "execution_count": 121,
      "outputs": [
        {
          "output_type": "stream",
          "name": "stderr",
          "text": [
            "/content/spark-3.4.0-bin-hadoop3/python/pyspark/sql/context.py:283: FutureWarning: Deprecated in 2.3.0. Use spark.udf.register instead.\n",
            "  warnings.warn(\"Deprecated in 2.3.0. Use spark.udf.register instead.\", FutureWarning)\n"
          ]
        },
        {
          "output_type": "execute_result",
          "data": {
            "text/plain": [
              "<function __main__.checkPostgraduate(program)>"
            ],
            "text/html": [
              "<div style=\"max-width:800px; border: 1px solid var(--colab-border-color);\"><style>\n",
              "      pre.function-repr-contents {\n",
              "        overflow-x: auto;\n",
              "        padding: 8px 12px;\n",
              "        max-height: 500px;\n",
              "      }\n",
              "\n",
              "      pre.function-repr-contents.function-repr-contents-collapsed {\n",
              "        cursor: pointer;\n",
              "        max-height: 100px;\n",
              "      }\n",
              "    </style>\n",
              "    <pre style=\"white-space: initial; background:\n",
              "         var(--colab-secondary-surface-color); padding: 8px 12px;\n",
              "         border-bottom: 1px solid var(--colab-border-color);\"><b>checkPostgraduate</b><br/>def checkPostgraduate(program)</pre><pre class=\"function-repr-contents function-repr-contents-collapsed\" style=\"\"><a class=\"filepath\" style=\"display:none\" href=\"#\">/content/&lt;ipython-input-121-aabaf14cf3ae&gt;</a>Verifica si el programa es de posgrado\n",
              "\n",
              "Args:\n",
              "  program: Nombre del programa\n",
              "\n",
              "Returns:\n",
              "  1 si el programa es de posgrado, 0 en caso contrario</pre></div>"
            ]
          },
          "metadata": {},
          "execution_count": 121
        }
      ]
    },
    {
      "cell_type": "code",
      "source": [
        "sqlCtx.sql(\"\"\"\n",
        "SELECT AVG(checkPostgraduate(`Nombre del Programa`)) AS `Posgrado`\n",
        "FROM Becas\n",
        "\"\"\").show()"
      ],
      "metadata": {
        "colab": {
          "base_uri": "https://localhost:8080/"
        },
        "id": "n3qsa98qN7UC",
        "outputId": "f9ba00cd-43e2-4dbf-ed0d-fd871b79061e"
      },
      "execution_count": 122,
      "outputs": [
        {
          "output_type": "stream",
          "name": "stdout",
          "text": [
            "+-------------------+\n",
            "|           Posgrado|\n",
            "+-------------------+\n",
            "|0.19528619528619529|\n",
            "+-------------------+\n",
            "\n"
          ]
        }
      ]
    },
    {
      "cell_type": "code",
      "source": [
        "area_by_country = (becasDF.filter(~col(\"Nombre del País\").like(\"%plataforma%\"))\n",
        ".groupBy(\"Nombre del País\")\n",
        ".agg(F.mode(\"Area del Conocimiento\").alias(\"Area Más Frecuente\"))\n",
        ".orderBy(\"Nombre del País\"))"
      ],
      "metadata": {
        "id": "nLVffQlMCKAu"
      },
      "execution_count": 119,
      "outputs": []
    },
    {
      "cell_type": "code",
      "source": [
        "area_by_country.show(200)"
      ],
      "metadata": {
        "colab": {
          "base_uri": "https://localhost:8080/"
        },
        "id": "Hj2vSP_tNlTg",
        "outputId": "74be4ff7-8f7f-4435-a2f0-a57fc64303b0"
      },
      "execution_count": 120,
      "outputs": [
        {
          "output_type": "stream",
          "name": "stdout",
          "text": [
            "+--------------------+--------------------+\n",
            "|     Nombre del País|  Area Más Frecuente|\n",
            "+--------------------+--------------------+\n",
            "|           argentina|      administracion|\n",
            "|           australia|maestrias en dife...|\n",
            "|barbados jamaica ...|ciencias de la ed...|\n",
            "|             belgica| ingenieria y afines|\n",
            "|              belice|         humanidades|\n",
            "|              brasil|pregrado en difer...|\n",
            "|              brunei|maestrias y docto...|\n",
            "|              canada|maestrias y docto...|\n",
            "|          checa rep.|         humanidades|\n",
            "|               chile|    diferentes areas|\n",
            "|               china|posgrado diferent...|\n",
            "|            colombia|ciencias naturale...|\n",
            "|       corea del sur|administracion - ...|\n",
            "|          costa rica|      administracion|\n",
            "|   diferentes paises|posgrado diferent...|\n",
            "|             ecuador|    diferentes areas|\n",
            "|              egipto|ciencias agropecu...|\n",
            "|              españa|      administracion|\n",
            "|      estados unidos| ingenieria y afines|\n",
            "|estados unidos me...|    diferentes areas|\n",
            "|estados unidos re...|             idiomas|\n",
            "|             francia|ciencias de la ed...|\n",
            "|            honduras|ciencias naturale...|\n",
            "|             hungria|pregrado en difer...|\n",
            "|               india| ingenieria y afines|\n",
            "|           indonesia|         humanidades|\n",
            "|              israel|ciencias de la ed...|\n",
            "|              italia|posgrado diferent...|\n",
            "|               japon|    diferentes areas|\n",
            "|             malasia|         humanidades|\n",
            "|              mexico|    diferentes areas|\n",
            "|           nicaragua|      administracion|\n",
            "|       nueva zelanda|         humanidades|\n",
            "|              panama| ingenieria y afines|\n",
            "|            paraguay| ingenieria y afines|\n",
            "|                peru| ingenieria y afines|\n",
            "|             polonia| ingenieria y afines|\n",
            "|         puerto rico|      administracion|\n",
            "|         reino unido|    diferentes areas|\n",
            "|               rusia|pregrado en difer...|\n",
            "|            singapur|administracion - ...|\n",
            "|              suecia|   ciencias sociales|\n",
            "|               suiza|doctorado en dife...|\n",
            "|           tailandia|ciencias agropecu...|\n",
            "|              taiwan|posgrado diferent...|\n",
            "|   trinidad y tobago|administracion - ...|\n",
            "|             turquia|doctorado en dife...|\n",
            "|             uruguay| ingenieria y afines|\n",
            "+--------------------+--------------------+\n",
            "\n"
          ]
        }
      ]
    },
    {
      "cell_type": "markdown",
      "metadata": {
        "id": "HGwierHTLFt3"
      },
      "source": [
        "##**E) ¿Qué podemos concluir a partir del Perfil del Aspirante y el Objetivo del Programa?**\n",
        "\n",
        "Se dispone de dos campos de descripción, que no emplean un formato claro que permita analizar los perfiles de los aspirantes con respecto al objetivo del programa.\n",
        "\n",
        "Plantee una forma de analizar esta información para conocer las relaciones entre los perfiles y lo objetivos."
      ]
    },
    {
      "cell_type": "markdown",
      "metadata": {
        "id": "xHtI3jGcNTNn"
      },
      "source": [
        "Presente aquí el código desarrollado y el resultado obtenido"
      ]
    },
    {
      "cell_type": "code",
      "source": [
        "# Lista de stopwords\n",
        "nltk.download('stopwords')\n",
        "nltk.download('punkt')\n",
        "\n",
        "stopwords = set(stopwords.words('spanish'))\n",
        "stopwords"
      ],
      "metadata": {
        "collapsed": true,
        "id": "KOKe_F1KndYB",
        "outputId": "078363f7-6cc3-4a68-d5d3-1c8903a1c292",
        "colab": {
          "base_uri": "https://localhost:8080/"
        }
      },
      "execution_count": 153,
      "outputs": [
        {
          "output_type": "stream",
          "name": "stderr",
          "text": [
            "[nltk_data] Downloading package stopwords to /root/nltk_data...\n",
            "[nltk_data]   Package stopwords is already up-to-date!\n",
            "[nltk_data] Downloading package punkt to /root/nltk_data...\n",
            "[nltk_data]   Package punkt is already up-to-date!\n"
          ]
        },
        {
          "output_type": "execute_result",
          "data": {
            "text/plain": [
              "{'a',\n",
              " 'al',\n",
              " 'algo',\n",
              " 'algunas',\n",
              " 'algunos',\n",
              " 'ante',\n",
              " 'antes',\n",
              " 'como',\n",
              " 'con',\n",
              " 'contra',\n",
              " 'cual',\n",
              " 'cuando',\n",
              " 'de',\n",
              " 'del',\n",
              " 'desde',\n",
              " 'donde',\n",
              " 'durante',\n",
              " 'e',\n",
              " 'el',\n",
              " 'ella',\n",
              " 'ellas',\n",
              " 'ellos',\n",
              " 'en',\n",
              " 'entre',\n",
              " 'era',\n",
              " 'erais',\n",
              " 'eran',\n",
              " 'eras',\n",
              " 'eres',\n",
              " 'es',\n",
              " 'esa',\n",
              " 'esas',\n",
              " 'ese',\n",
              " 'eso',\n",
              " 'esos',\n",
              " 'esta',\n",
              " 'estaba',\n",
              " 'estabais',\n",
              " 'estaban',\n",
              " 'estabas',\n",
              " 'estad',\n",
              " 'estada',\n",
              " 'estadas',\n",
              " 'estado',\n",
              " 'estados',\n",
              " 'estamos',\n",
              " 'estando',\n",
              " 'estar',\n",
              " 'estaremos',\n",
              " 'estará',\n",
              " 'estarán',\n",
              " 'estarás',\n",
              " 'estaré',\n",
              " 'estaréis',\n",
              " 'estaría',\n",
              " 'estaríais',\n",
              " 'estaríamos',\n",
              " 'estarían',\n",
              " 'estarías',\n",
              " 'estas',\n",
              " 'este',\n",
              " 'estemos',\n",
              " 'esto',\n",
              " 'estos',\n",
              " 'estoy',\n",
              " 'estuve',\n",
              " 'estuviera',\n",
              " 'estuvierais',\n",
              " 'estuvieran',\n",
              " 'estuvieras',\n",
              " 'estuvieron',\n",
              " 'estuviese',\n",
              " 'estuvieseis',\n",
              " 'estuviesen',\n",
              " 'estuvieses',\n",
              " 'estuvimos',\n",
              " 'estuviste',\n",
              " 'estuvisteis',\n",
              " 'estuviéramos',\n",
              " 'estuviésemos',\n",
              " 'estuvo',\n",
              " 'está',\n",
              " 'estábamos',\n",
              " 'estáis',\n",
              " 'están',\n",
              " 'estás',\n",
              " 'esté',\n",
              " 'estéis',\n",
              " 'estén',\n",
              " 'estés',\n",
              " 'fue',\n",
              " 'fuera',\n",
              " 'fuerais',\n",
              " 'fueran',\n",
              " 'fueras',\n",
              " 'fueron',\n",
              " 'fuese',\n",
              " 'fueseis',\n",
              " 'fuesen',\n",
              " 'fueses',\n",
              " 'fui',\n",
              " 'fuimos',\n",
              " 'fuiste',\n",
              " 'fuisteis',\n",
              " 'fuéramos',\n",
              " 'fuésemos',\n",
              " 'ha',\n",
              " 'habida',\n",
              " 'habidas',\n",
              " 'habido',\n",
              " 'habidos',\n",
              " 'habiendo',\n",
              " 'habremos',\n",
              " 'habrá',\n",
              " 'habrán',\n",
              " 'habrás',\n",
              " 'habré',\n",
              " 'habréis',\n",
              " 'habría',\n",
              " 'habríais',\n",
              " 'habríamos',\n",
              " 'habrían',\n",
              " 'habrías',\n",
              " 'habéis',\n",
              " 'había',\n",
              " 'habíais',\n",
              " 'habíamos',\n",
              " 'habían',\n",
              " 'habías',\n",
              " 'han',\n",
              " 'has',\n",
              " 'hasta',\n",
              " 'hay',\n",
              " 'haya',\n",
              " 'hayamos',\n",
              " 'hayan',\n",
              " 'hayas',\n",
              " 'hayáis',\n",
              " 'he',\n",
              " 'hemos',\n",
              " 'hube',\n",
              " 'hubiera',\n",
              " 'hubierais',\n",
              " 'hubieran',\n",
              " 'hubieras',\n",
              " 'hubieron',\n",
              " 'hubiese',\n",
              " 'hubieseis',\n",
              " 'hubiesen',\n",
              " 'hubieses',\n",
              " 'hubimos',\n",
              " 'hubiste',\n",
              " 'hubisteis',\n",
              " 'hubiéramos',\n",
              " 'hubiésemos',\n",
              " 'hubo',\n",
              " 'la',\n",
              " 'las',\n",
              " 'le',\n",
              " 'les',\n",
              " 'lo',\n",
              " 'los',\n",
              " 'me',\n",
              " 'mi',\n",
              " 'mis',\n",
              " 'mucho',\n",
              " 'muchos',\n",
              " 'muy',\n",
              " 'más',\n",
              " 'mí',\n",
              " 'mía',\n",
              " 'mías',\n",
              " 'mío',\n",
              " 'míos',\n",
              " 'nada',\n",
              " 'ni',\n",
              " 'no',\n",
              " 'nos',\n",
              " 'nosotras',\n",
              " 'nosotros',\n",
              " 'nuestra',\n",
              " 'nuestras',\n",
              " 'nuestro',\n",
              " 'nuestros',\n",
              " 'o',\n",
              " 'os',\n",
              " 'otra',\n",
              " 'otras',\n",
              " 'otro',\n",
              " 'otros',\n",
              " 'para',\n",
              " 'pero',\n",
              " 'poco',\n",
              " 'por',\n",
              " 'porque',\n",
              " 'que',\n",
              " 'quien',\n",
              " 'quienes',\n",
              " 'qué',\n",
              " 'se',\n",
              " 'sea',\n",
              " 'seamos',\n",
              " 'sean',\n",
              " 'seas',\n",
              " 'sentid',\n",
              " 'sentida',\n",
              " 'sentidas',\n",
              " 'sentido',\n",
              " 'sentidos',\n",
              " 'seremos',\n",
              " 'será',\n",
              " 'serán',\n",
              " 'serás',\n",
              " 'seré',\n",
              " 'seréis',\n",
              " 'sería',\n",
              " 'seríais',\n",
              " 'seríamos',\n",
              " 'serían',\n",
              " 'serías',\n",
              " 'seáis',\n",
              " 'siente',\n",
              " 'sin',\n",
              " 'sintiendo',\n",
              " 'sobre',\n",
              " 'sois',\n",
              " 'somos',\n",
              " 'son',\n",
              " 'soy',\n",
              " 'su',\n",
              " 'sus',\n",
              " 'suya',\n",
              " 'suyas',\n",
              " 'suyo',\n",
              " 'suyos',\n",
              " 'sí',\n",
              " 'también',\n",
              " 'tanto',\n",
              " 'te',\n",
              " 'tendremos',\n",
              " 'tendrá',\n",
              " 'tendrán',\n",
              " 'tendrás',\n",
              " 'tendré',\n",
              " 'tendréis',\n",
              " 'tendría',\n",
              " 'tendríais',\n",
              " 'tendríamos',\n",
              " 'tendrían',\n",
              " 'tendrías',\n",
              " 'tened',\n",
              " 'tenemos',\n",
              " 'tenga',\n",
              " 'tengamos',\n",
              " 'tengan',\n",
              " 'tengas',\n",
              " 'tengo',\n",
              " 'tengáis',\n",
              " 'tenida',\n",
              " 'tenidas',\n",
              " 'tenido',\n",
              " 'tenidos',\n",
              " 'teniendo',\n",
              " 'tenéis',\n",
              " 'tenía',\n",
              " 'teníais',\n",
              " 'teníamos',\n",
              " 'tenían',\n",
              " 'tenías',\n",
              " 'ti',\n",
              " 'tiene',\n",
              " 'tienen',\n",
              " 'tienes',\n",
              " 'todo',\n",
              " 'todos',\n",
              " 'tu',\n",
              " 'tus',\n",
              " 'tuve',\n",
              " 'tuviera',\n",
              " 'tuvierais',\n",
              " 'tuvieran',\n",
              " 'tuvieras',\n",
              " 'tuvieron',\n",
              " 'tuviese',\n",
              " 'tuvieseis',\n",
              " 'tuviesen',\n",
              " 'tuvieses',\n",
              " 'tuvimos',\n",
              " 'tuviste',\n",
              " 'tuvisteis',\n",
              " 'tuviéramos',\n",
              " 'tuviésemos',\n",
              " 'tuvo',\n",
              " 'tuya',\n",
              " 'tuyas',\n",
              " 'tuyo',\n",
              " 'tuyos',\n",
              " 'tú',\n",
              " 'un',\n",
              " 'una',\n",
              " 'uno',\n",
              " 'unos',\n",
              " 'vosotras',\n",
              " 'vosotros',\n",
              " 'vuestra',\n",
              " 'vuestras',\n",
              " 'vuestro',\n",
              " 'vuestros',\n",
              " 'y',\n",
              " 'ya',\n",
              " 'yo',\n",
              " 'él',\n",
              " 'éramos'}"
            ]
          },
          "metadata": {},
          "execution_count": 153
        }
      ]
    },
    {
      "cell_type": "code",
      "source": [
        "# UDF para eliminación de ruido, tokenización y limpieza\n",
        "def clean_and_tokenize(text):\n",
        "    if text is None:\n",
        "        return []\n",
        "\n",
        "    # Convertir a minúsculas\n",
        "    text = text.lower()\n",
        "\n",
        "    # Eliminar URLs, caracteres especiales y números\n",
        "    text = re.sub(r\"http\\S+|www\\.\\S+|indexphp\\S+\", \"\", text)  # URLs\n",
        "    text = re.sub(r\"[^a-záéíóúñ\\s]\", \"\", text)  # Caracteres especiales y números\n",
        "\n",
        "    # Tokenización (separar palabras) y eliminación de espacios múltiples\n",
        "    tokens = re.split(r\"\\s+\", text.strip())\n",
        "\n",
        "    # Quitar stopwords y palabras vacías\n",
        "    tokens = [word for word in tokens if word not in stopwords and word.strip() != \"\"]\n",
        "\n",
        "    return tokens\n",
        "\n",
        "# Registrar UDF\n",
        "clean_and_tokenize_udf = udf(clean_and_tokenize, ArrayType(StringType()))\n",
        "\n",
        "# Aplicar el UDF para limpiar y tokenizar\n",
        "becasDF_cleaned = (\n",
        "    becasDF\n",
        "    .withColumn(\n",
        "        \"Perfil Tokens\",\n",
        "        clean_and_tokenize_udf(col(\"Perfil del Aplicante\"))\n",
        "    )\n",
        ")\n",
        "\n",
        "# Mostrar resultados\n",
        "becasDF_cleaned.select(\"Perfil del Aplicante\", \"Perfil Tokens\").show(truncate=False)\n",
        "\n"
      ],
      "metadata": {
        "id": "vXAaJjnWXGWY",
        "outputId": "45b9110f-f9a9-4fad-d037-9f0e09e284b5",
        "colab": {
          "base_uri": "https://localhost:8080/",
          "height": 280
        }
      },
      "execution_count": 151,
      "outputs": [
        {
          "output_type": "stream",
          "name": "stderr",
          "text": [
            "[nltk_data] Downloading package stopwords to /root/nltk_data...\n",
            "[nltk_data]   Package stopwords is already up-to-date!\n",
            "[nltk_data] Downloading package punkt to /root/nltk_data...\n",
            "[nltk_data]   Package punkt is already up-to-date!\n"
          ]
        },
        {
          "output_type": "error",
          "ename": "AttributeError",
          "evalue": "'set' object has no attribute 'words'",
          "traceback": [
            "\u001b[0;31m---------------------------------------------------------------------------\u001b[0m",
            "\u001b[0;31mAttributeError\u001b[0m                            Traceback (most recent call last)",
            "\u001b[0;32m<ipython-input-151-9cbee7d4e088>\u001b[0m in \u001b[0;36m<cell line: 5>\u001b[0;34m()\u001b[0m\n\u001b[1;32m      3\u001b[0m \u001b[0mnltk\u001b[0m\u001b[0;34m.\u001b[0m\u001b[0mdownload\u001b[0m\u001b[0;34m(\u001b[0m\u001b[0;34m'punkt'\u001b[0m\u001b[0;34m)\u001b[0m\u001b[0;34m\u001b[0m\u001b[0;34m\u001b[0m\u001b[0m\n\u001b[1;32m      4\u001b[0m \u001b[0;34m\u001b[0m\u001b[0m\n\u001b[0;32m----> 5\u001b[0;31m \u001b[0mstopwords\u001b[0m \u001b[0;34m=\u001b[0m \u001b[0mset\u001b[0m\u001b[0;34m(\u001b[0m\u001b[0mstopwords\u001b[0m\u001b[0;34m.\u001b[0m\u001b[0mwords\u001b[0m\u001b[0;34m(\u001b[0m\u001b[0;34m'spanish'\u001b[0m\u001b[0;34m)\u001b[0m\u001b[0;34m)\u001b[0m\u001b[0;34m\u001b[0m\u001b[0;34m\u001b[0m\u001b[0m\n\u001b[0m\u001b[1;32m      6\u001b[0m \u001b[0;34m\u001b[0m\u001b[0m\n\u001b[1;32m      7\u001b[0m \u001b[0;31m# UDF para eliminación de ruido, tokenización y limpieza\u001b[0m\u001b[0;34m\u001b[0m\u001b[0;34m\u001b[0m\u001b[0m\n",
            "\u001b[0;31mAttributeError\u001b[0m: 'set' object has no attribute 'words'"
          ]
        }
      ]
    },
    {
      "cell_type": "markdown",
      "metadata": {
        "id": "4JYIy6EaEISf"
      },
      "source": [
        "##**Análisis de los resultados**\n",
        "\n",
        "Teniendo en cuenta los resultados obtenidos en los puntos anteriores, presente sus impresiones sobre las becas académicas disponibles para los estudiantes colombianos.\n"
      ]
    },
    {
      "cell_type": "markdown",
      "metadata": {
        "id": "FIWNCDYECHFb"
      },
      "source": [
        "#**Notas:**\n",
        "\n",
        "* Analice los resultados de cada punto y presente sus conclusiones\n",
        "* Utilice al menos una vez cada uno de los siguientes métodos\n",
        "\n",
        "  *   agg\n",
        "  *   withColumn\n",
        "  *   groupBy\n",
        "  *   sql\n",
        "  *   registerFunction"
      ]
    }
  ],
  "metadata": {
    "colab": {
      "provenance": [],
      "include_colab_link": true
    },
    "kernelspec": {
      "display_name": "Python 3",
      "name": "python3"
    }
  },
  "nbformat": 4,
  "nbformat_minor": 0
}